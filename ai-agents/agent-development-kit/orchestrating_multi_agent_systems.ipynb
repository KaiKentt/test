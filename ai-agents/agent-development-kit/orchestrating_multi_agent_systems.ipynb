{
  "cells": [
    {
      "cell_type": "code",
      "execution_count": 1,
      "id": "EZsNdGXULVe3LnjTQwaZbotH",
      "metadata": {
        "id": "EZsNdGXULVe3LnjTQwaZbotH",
        "tags": []
      },
      "outputs": [],
      "source": [
        "# Copyright 2025 Google LLC\n",
        "#\n",
        "# Licensed under the Apache License, Version 2.0 (the \"License\");\n",
        "# you may not use this file except in compliance with the License.\n",
        "# You may obtain a copy of the License at\n",
        "#\n",
        "#     https://www.apache.org/licenses/LICENSE-2.0\n",
        "#\n",
        "# Unless required by applicable law or agreed to in writing, software\n",
        "# distributed under the License is distributed on an \"AS IS\" BASIS,\n",
        "# WITHOUT WARRANTIES OR CONDITIONS OF ANY KIND, either express or implied.\n",
        "# See the License for the specific language governing permissions and\n",
        "# limitations under the License."
      ]
    },
    {
      "cell_type": "markdown",
      "id": "ZqLHpMl1MOXg",
      "metadata": {
        "id": "ZqLHpMl1MOXg"
      },
      "source": [
        "# Orchestrating Multi-Agent Systems with Google Agent Development Kit\n",
        "\n",
        "<table align=\"left\">\n",
        "  <td style=\"text-align: center\">\n",
        "    <a href=\"https://colab.research.google.com/github/iamthuya/google-cloud-workshops/blob/main/ai-agents/agent-development-kit/orchestrating_multi_agent_systems.ipynb\">\n",
        "      <img src=\"https://cloud.google.com/ml-engine/images/colab-logo-32px.png\" alt=\"Google Colaboratory logo\"><br> Run in Colab\n",
        "    </a>\n",
        "  </td>\n",
        "  <td style=\"text-align: center\">\n",
        "    <a href=\"https://console.cloud.google.com/vertex-ai/colab/import/https:%2F%2Fraw.githubusercontent.com%2Fiamthuya%2Fgoogle-cloud-workshops%2Fmain%2Fai-agents%2Fagent-development-kit%2Forchestrating_multi_agent_systems.ipynb\">\n",
        "      <img width=\"32px\" src=\"https://lh3.googleusercontent.com/JmcxdQi-qOpctIvWKgPtrzZdJJK-J3sWE1RsfjZNwshCFgE_9fULcNpuXYTilIR2hjwN\" alt=\"Google Cloud Colab Enterprise logo\"><br> Run in Colab Enterprise\n",
        "    </a>\n",
        "  </td>      \n",
        "  <td style=\"text-align: center\">\n",
        "    <a href=\"https://github.com/iamthuya/google-cloud-workshops/blob/main/ai-agents/agent-development-kit/orchestrating_multi_agent_systems.ipynb\">\n",
        "      <img src=\"https://cloud.google.com/ml-engine/images/github-logo-32px.png\" alt=\"GitHub logo\"><br> View on GitHub\n",
        "    </a>\n",
        "  </td>\n",
        "  <td style=\"text-align: center\">\n",
        "    <a href=\"https://console.cloud.google.com/vertex-ai/workbench/deploy-notebook?download_url=https://raw.githubusercontent.com/iamthuya/google-cloud-workshops/blob/main/ai-agents/agent-development-kit/orchestrating_multi-agent_systems.ipynb\">\n",
        "      <img src=\"https://lh3.googleusercontent.com/UiNooY4LUgW_oTvpsNhPpQzsstV5W8F7rYgxgGBD85cWJoLmrOzhVs_ksK_vgx40SHs7jCqkTkCk=e14-rj-sc0xffffff-h130-w32\" alt=\"Vertex AI logo\"><br> Open in Vertex AI Workbench\n",
        "    </a>\n",
        "  </td>\n",
        "</table>"
      ]
    },
    {
      "cell_type": "markdown",
      "id": "tcb6_bFE4kr9",
      "metadata": {
        "id": "tcb6_bFE4kr9"
      },
      "source": [
        "| | |\n",
        "|-|-|\n",
        "|Author(s) | [Thu Ya Kyaw](https://github.com/iamthuya) |"
      ]
    },
    {
      "cell_type": "markdown",
      "id": "bdd85054-7d9a-4abd-9443-88afb347b110",
      "metadata": {
        "id": "bdd85054-7d9a-4abd-9443-88afb347b110"
      },
      "source": [
        "## Environment Setup"
      ]
    },
    {
      "cell_type": "markdown",
      "id": "DD39LxKq4MsD",
      "metadata": {
        "id": "DD39LxKq4MsD"
      },
      "source": [
        "### Install Necessary Libraries\n",
        "\n",
        "Here you will install required Python packages for this lab."
      ]
    },
    {
      "cell_type": "code",
      "execution_count": 2,
      "id": "b4cUyTwE17VJ",
      "metadata": {
        "id": "b4cUyTwE17VJ",
        "tags": []
      },
      "outputs": [],
      "source": [
        "%pip install -U -q google-adk"
      ]
    },
    {
      "cell_type": "code",
      "execution_count": 3,
      "id": "c6d02b38-f977-4c5f-9f2e-5c3d1757fa3c",
      "metadata": {
        "id": "c6d02b38-f977-4c5f-9f2e-5c3d1757fa3c",
        "outputId": "c0605a94-e55a-4c0a-a317-7b6f39549135",
        "colab": {
          "base_uri": "https://localhost:8080/"
        }
      },
      "outputs": [
        {
          "output_type": "stream",
          "name": "stdout",
          "text": [
            "1.4.2\n"
          ]
        }
      ],
      "source": [
        "# Check ADK version\n",
        "from google import adk\n",
        "\n",
        "print(adk.__version__)"
      ]
    },
    {
      "cell_type": "markdown",
      "id": "47U_n5Y145JE",
      "metadata": {
        "id": "47U_n5Y145JE"
      },
      "source": [
        "### Restart current runtime\n",
        "\n",
        "To use the newly installed packages in this Jupyter runtime, you must restart the runtime. You can do this by running the cell below, which will restart the current kernel.\n",
        "\n",
        "Don't worry if you see a notification message like `Your session crashed for an unknown reason.` This is expected as you are shutting down the kernel from the same instance using code.\n"
      ]
    },
    {
      "cell_type": "code",
      "execution_count": null,
      "id": "R2Rzk6mnRh7y",
      "metadata": {
        "id": "R2Rzk6mnRh7y",
        "tags": []
      },
      "outputs": [],
      "source": [
        "import IPython\n",
        "\n",
        "app = IPython.Application.instance()\n",
        "app.kernel.do_shutdown(True)"
      ]
    },
    {
      "cell_type": "markdown",
      "id": "56a37e59-0baa-4574-8f0b-4d051e28a758",
      "metadata": {
        "id": "56a37e59-0baa-4574-8f0b-4d051e28a758"
      },
      "source": [
        "<div class=\"alert alert-block alert-warning\">\n",
        "<b>⚠️ The kernel is going to restart. Please wait until it is finished before continuing to the next step. ⚠️</b>\n",
        "</div>"
      ]
    },
    {
      "cell_type": "markdown",
      "id": "c5824ed8-972e-484c-a1da-23523d29f4c7",
      "metadata": {
        "id": "c5824ed8-972e-484c-a1da-23523d29f4c7"
      },
      "source": [
        "### Import Required Libraries"
      ]
    },
    {
      "cell_type": "code",
      "execution_count": 1,
      "id": "3b18aeb4-3aa7-4f30-a553-b3d48d84f58c",
      "metadata": {
        "id": "3b18aeb4-3aa7-4f30-a553-b3d48d84f58c"
      },
      "outputs": [],
      "source": [
        "import os\n",
        "import asyncio\n",
        "\n",
        "from google.adk.agents import LlmAgent, SequentialAgent, ParallelAgent, LoopAgent\n",
        "from google.adk.runners import Runner\n",
        "from google.adk.sessions import InMemorySessionService\n",
        "from google.adk.tools import google_search, ToolContext\n",
        "from google.genai import types\n",
        "\n",
        "from IPython.display import Markdown, display"
      ]
    },
    {
      "cell_type": "markdown",
      "id": "f82256a4-bb75-45a6-b7f9-ef4a7d046655",
      "metadata": {
        "id": "f82256a4-bb75-45a6-b7f9-ef4a7d046655"
      },
      "source": [
        "### Define Environment Variables"
      ]
    },
    {
      "cell_type": "code",
      "execution_count": 2,
      "id": "4c9bd5fd-cc48-4ba6-aa0a-166fc12a2391",
      "metadata": {
        "id": "4c9bd5fd-cc48-4ba6-aa0a-166fc12a2391"
      },
      "outputs": [],
      "source": [
        "from google.colab import userdata\n",
        "\n",
        "os.environ[\"GOOGLE_GENAI_USE_VERTEXAI\"] = \"False\"\n",
        "os.environ[\"GOOGLE_API_KEY\"] = userdata.get('GOOGLE_API_KEY')"
      ]
    },
    {
      "cell_type": "markdown",
      "id": "00eb04b4-a098-4766-9547-cc250019bc2b",
      "metadata": {
        "id": "00eb04b4-a098-4766-9547-cc250019bc2b"
      },
      "source": [
        "## Sequential Agents\n",
        "\n",
        "In this section, you'll create an agent that researches a topic, then writes in detail about it, and finally edits the output. These steps must happen in order: research first, then writing, and then editing, because you can't write without research, and you can't edit without a written piece."
      ]
    },
    {
      "cell_type": "code",
      "execution_count": 3,
      "id": "1c2f0b78-47d0-4111-81ce-a46305e981d5",
      "metadata": {
        "id": "1c2f0b78-47d0-4111-81ce-a46305e981d5"
      },
      "outputs": [],
      "source": [
        "# Define variables\n",
        "GEMINI_MODEL_NAME = \"gemini-2.5-flash-preview-04-17\"\n",
        "APP_NAME = \"sequential_app\"\n",
        "USER_ID = \"sequential_user\"\n",
        "SESSION_ID = \"sequential_session\""
      ]
    },
    {
      "cell_type": "markdown",
      "id": "sQxNLm3ZdNL4",
      "metadata": {
        "id": "sQxNLm3ZdNL4"
      },
      "source": [
        "#### Initialize the agents and pipeline"
      ]
    },
    {
      "cell_type": "code",
      "execution_count": 4,
      "id": "f1f88c84-4d25-45e7-a077-574ccff4ead0",
      "metadata": {
        "id": "f1f88c84-4d25-45e7-a077-574ccff4ead0"
      },
      "outputs": [],
      "source": [
        "# Define respective agents and pipeline\n",
        "researcher = LlmAgent(\n",
        "    name=\"ResearcherAgent\",\n",
        "    model=GEMINI_MODEL_NAME,\n",
        "    instruction=\"Your task is to use 'google_search' tool to find all the relavent information about a given topic and write a comprehensive report about that topic.\",\n",
        "    tools=[google_search],\n",
        "    description=\"Researches about a topic\",\n",
        "    output_key=\"research_results\"\n",
        ")\n",
        "\n",
        "writer = LlmAgent(\n",
        "    name=\"WriterAgent\",\n",
        "    model=GEMINI_MODEL_NAME,\n",
        "    instruction=\"Your task is to write a comprehensive report using this information: {research_results}. Make sure to expend on all the topics from the provided information.\",\n",
        "    description=\"Write about a comprehensive report based on the provided information\",\n",
        "    output_key=\"comprehensive_report\"\n",
        ")\n",
        "\n",
        "editor = LlmAgent(\n",
        "    name=\"EditorAgent\",\n",
        "    model=GEMINI_MODEL_NAME,\n",
        "    instruction=\"Your task is to edit a report: {comprehensive_report}. Perform a quality check on the text and improve it if necessary.\",\n",
        "    description=\"Perform quality check on a written report\",\n",
        ")\n",
        "\n",
        "sequential_pipeline = SequentialAgent(\n",
        "    name=\"ContentPipelineAgent\",\n",
        "    sub_agents=[researcher, writer, editor],\n",
        "    description=\"Executes a sequence of researching, writing, and editing.\",\n",
        ")"
      ]
    },
    {
      "cell_type": "markdown",
      "id": "L9A8AR_JlR1E",
      "metadata": {
        "id": "L9A8AR_JlR1E"
      },
      "source": [
        "### Initialize Session & Runner"
      ]
    },
    {
      "cell_type": "code",
      "execution_count": 5,
      "id": "6a7e4e15-4ee6-4309-9712-58896b3803cc",
      "metadata": {
        "id": "6a7e4e15-4ee6-4309-9712-58896b3803cc"
      },
      "outputs": [],
      "source": [
        "# Initialize Session\n",
        "session_service = InMemorySessionService()\n",
        "\n",
        "session = await session_service.create_session(\n",
        "    app_name=APP_NAME,\n",
        "    user_id=USER_ID,\n",
        "    session_id=SESSION_ID\n",
        ")\n",
        "\n",
        "# Initialize Runner\n",
        "sequential_runner = Runner(\n",
        "    agent=sequential_pipeline,\n",
        "    app_name=APP_NAME,\n",
        "    session_service=session_service,\n",
        ")"
      ]
    },
    {
      "cell_type": "markdown",
      "id": "TW5SfOyvlVyq",
      "metadata": {
        "id": "TW5SfOyvlVyq"
      },
      "source": [
        "### Define a function to interact with Agent"
      ]
    },
    {
      "cell_type": "code",
      "execution_count": 6,
      "id": "053875aa-f522-411c-b140-46d1ec2ac5fb",
      "metadata": {
        "id": "053875aa-f522-411c-b140-46d1ec2ac5fb"
      },
      "outputs": [],
      "source": [
        "# Define a function to interact with the agent\n",
        "async def run_agent(runner, user_id, session_id, user_query):\n",
        "    user_message = types.Content(\n",
        "        role=\"user\",\n",
        "        parts=[types.Part(text=user_query)]\n",
        "    )\n",
        "\n",
        "    events = runner.run_async(\n",
        "        user_id=user_id,\n",
        "        session_id=session_id,\n",
        "        new_message=user_message\n",
        "    )\n",
        "\n",
        "    output = {}\n",
        "    async for event in events:\n",
        "        if event.is_final_response():\n",
        "            author = event.author\n",
        "            report = event.content.parts[0].text\n",
        "            output[author] = report\n",
        "\n",
        "            display(Markdown(f\"## {author}\"))\n",
        "            display(Markdown(f\"{report}\"))\n",
        "\n",
        "    return output"
      ]
    },
    {
      "cell_type": "code",
      "execution_count": 7,
      "id": "8ef2cc0f-9efe-4a59-874c-8410f238175b",
      "metadata": {
        "colab": {
          "base_uri": "https://localhost:8080/",
          "height": 1000
        },
        "id": "8ef2cc0f-9efe-4a59-874c-8410f238175b",
        "outputId": "fe541722-2696-433b-c9e8-80f412324ec5"
      },
      "outputs": [
        {
          "output_type": "display_data",
          "data": {
            "text/plain": [
              "<IPython.core.display.Markdown object>"
            ],
            "text/markdown": "## ResearcherAgent"
          },
          "metadata": {}
        },
        {
          "output_type": "display_data",
          "data": {
            "text/plain": [
              "<IPython.core.display.Markdown object>"
            ],
            "text/markdown": "Generative AI is a rapidly evolving subfield of artificial intelligence focused on creating new content, such as text, images, audio, code, simulations, and videos, based on patterns learned from training data. The current state of generative AI is marked by explosive growth in adoption, significant technological advancements, a widening range of applications across industries, substantial market expansion, and ongoing efforts to address associated challenges and ethical considerations.\n\n**Rapid Adoption and Market Growth:**\n\nGenerative AI has seen a dramatic increase in use by organizations. According to a McKinsey survey, the use of generative AI in organizations rose from 33% in 2023 to 71% in 2024. Similarly, AI adoption among large companies has surged by 47% compared to 2018 data. This widespread adoption is reflected in the significant growth of the generative AI market. The global generative AI market size was valued at approximately USD 16.87 billion in 2024 and is projected to reach between USD 109.37 billion by 2030 and USD 890.59 billion by 2032, with impressiveCAGRs. Another estimate places the market size at USD 36.06 billion in 2024, projected to grow to USD 763.75 billion by 2032 at a CAGR of 46.45%. North America currently holds the largest share of the generative AI market, driven by investment and the presence of leading AI companies.\n\n**Key Technological Advancements and Trends:**\n\nRecent advancements in generative AI are largely powered by improvements in deep neural networks, particularly transformer-based models and large language models (LLMs). Key trends shaping the current landscape include:\n\n*   **Multimodal AI:** Models are moving beyond processing just text to handling and generating multiple types of data simultaneously, including text, images, audio, and video. This allows for more human-like interaction and versatile applications.\n*   **Agentic AI:** The rise of AI agents that can take actions and perform tasks autonomously is a significant trend for 2025. These agents can manage tasks like scheduling, email, and report preparation.\n*   **Smaller Language Models (SLMs):** While large models like GPT-4 exist, smaller models are gaining traction due to their near-instant responsiveness, lower resource requirements, and reduced workload on cloud servers.\n*   **Retrieval-Augmented Generation (RAG):** This technique is being used to improve the accuracy of generative AI models by allowing them to search external data sources for up-to-date information.\n*   **AI-First Applications:** Generative AI is becoming an integral part of application design rather than just an add-on feature.\n*   **Open-Source Models:** The availability of open-source models is increasing, democratizing access to generative AI.\n\n**Applications Across Industries:**\n\nGenerative AI is being applied across a wide array of industries and business functions, transforming workflows and enabling new capabilities. Common applications include:\n\n*   **Content Creation:** Generating text, images, audio, and video for marketing, entertainment, and various other purposes.\n*   **Software Development:** Assisting with code creation, completion, and refactoring.\n*   **Marketing and Sales:** Creating personalized marketing content, optimizing strategies, and enhancing customer engagement.\n*   **Healthcare and Pharmaceuticals:** Accelerating drug discovery, analyzing medical data, and assisting with diagnostics and personalized treatment plans.\n*   **Customer Service:** Powering chatbots and virtual assistants for 24/7 support and personalized interactions.\n*   **Business Operations:** Automating tasks, streamlining workflows, and enhancing decision-making through data analysis and insights.\n*   **Finance:** Creating investment strategies, drafting documentation, and assisting with fraud detection.\n\n**Challenges and Considerations:**\n\nDespite its immense potential and rapid advancements, the adoption and implementation of generative AI face several challenges:\n\n*   **Data Quality and Availability:** Generative AI models require vast amounts of high-quality data for effective training, and organizations often struggle with data silos, inconsistent formats, and incomplete datasets.\n*   **Ethical and Bias Concerns:** There are significant concerns regarding data privacy, biases in training data leading to biased outputs, and the potential for misuse of AI-generated content like deepfakes and misinformation.\n*   **Computational Resources and Costs:** Training and running generative AI models are computationally intensive, requiring substantial investment in IT infrastructure and potentially leading to increased costs.\n*   **Integration with Existing Systems:** Integrating generative AI with existing business systems and workflows can be complex and requires customization.\n*   **User Adoption and Trust:** Employees may resist AI adoption due to fears of job displacement or lack of understanding, and building trust in AI outputs, especially regarding accuracy and transparency, is crucial.\n*   **Regulatory Compliance:** The rapidly evolving regulatory landscape around AI and data privacy requires organizations to stay informed and ensure compliance.\n*   **Governance and Risk Management:** Establishing robust governance frameworks and processes is essential to mitigate risks such as hallucinations (generating false information), bias, and toxic content.\n\nIn conclusion, generative AI is currently in a phase of rapid expansion and integration across various sectors. While the technology offers significant opportunities for innovation and efficiency, successfully navigating its implementation requires addressing challenges related to data, ethics, resources, integration, and human factors. The future of generative AI is expected to involve further advancements in model capabilities, increased autonomy of AI agents, and a greater focus on responsible and ethical deployment."
          },
          "metadata": {}
        },
        {
          "output_type": "display_data",
          "data": {
            "text/plain": [
              "<IPython.core.display.Markdown object>"
            ],
            "text/markdown": "## WriterAgent"
          },
          "metadata": {}
        },
        {
          "output_type": "display_data",
          "data": {
            "text/plain": [
              "<IPython.core.display.Markdown object>"
            ],
            "text/markdown": "## Comprehensive Report on the Current State of Generative AI\n\n**Introduction**\n\nGenerative AI, a rapidly evolving subfield of artificial intelligence, is focused on the creation of new content, including text, images, audio, code, simulations, and videos. This process is based on patterns learned by AI models from extensive training data. The current state of generative AI is characterized by several key aspects: explosive growth in adoption across organizations, significant advancements in underlying technology, a widening scope of applications spanning numerous industries, substantial expansion of the market size, and ongoing efforts to identify and address the associated challenges and ethical considerations.\n\n**Rapid Adoption and Market Growth**\n\nGenerative AI is experiencing a dramatic increase in adoption within organizations. According to a McKinsey survey cited in the provided information, the proportion of organizations using generative AI nearly doubled in a single year, rising from 33% in 2023 to 71% in 2024. Broader AI adoption among large companies has also seen a significant surge, showing a 47% increase compared to data from 2018.\n\nThis widespread organizational uptake is fueling substantial growth in the generative AI market. Estimates for the global generative AI market size vary, reflecting the dynamic nature of the field. One projection values the market at approximately USD 16.87 billion in 2024, forecasting growth to between USD 109.37 billion by 2030 and a higher estimate of USD 890.59 billion by 2032, indicating impressive Compound Annual Growth Rates (CAGRs). Another estimate places the 2024 market size at USD 36.06 billion, with a projection for rapid expansion to USD 763.75 billion by 2032, driven by a strong CAGR of 46.45%. Geographically, North America currently holds the largest share of the global generative AI market. This leading position is primarily attributed to significant investment in AI technologies and the presence of many leading AI companies within the region.\n\n**Key Technological Advancements and Trends**\n\nRecent progress in generative AI is largely powered by continuous improvements in deep neural networks, with a particular emphasis on transformer-based models and Large Language Models (LLMs). Several key technological trends are actively shaping the current generative AI landscape:\n\n*   **Multimodal AI:** Models are evolving to process and generate multiple types of data simultaneously, moving beyond traditional text-only capabilities. This includes handling text, images, audio, and video, leading to more natural, human-like interactions and enabling more versatile applications.\n*   **Agentic AI:** The emergence of AI agents capable of taking autonomous actions and performing complex tasks represents a significant trend, projected to gain prominence in 2025. These agents can manage diverse responsibilities such as scheduling, email handling, and report preparation without constant human input.\n*   **Smaller Language Models (SLMs):** While large, powerful models like GPT-4 exist, Smaller Language Models (SLMs) are increasingly gaining traction. Their advantages include near-instantaneous responsiveness, lower resource requirements, and a reduced workload on cloud infrastructure compared to their larger counterparts.\n*   **Retrieval-Augmented Generation (RAG):** This technique enhances the accuracy and reliability of generative AI outputs. RAG allows models to search and incorporate information from external data sources, ensuring that the generated content is based on up-to-date and relevant information.\n*   **AI-First Applications:** Generative AI is transitioning from being a potential add-on feature to becoming a fundamental, integral part of application design from the outset. This \"AI-First\" approach allows for more deeply integrated and effective AI functionalities.\n*   **Open-Source Models:** The availability of open-source generative AI models is increasing. This trend contributes to the democratization of access to generative AI technology, making it more accessible for development and implementation across a wider range of users and organizations.\n\n**Applications Across Industries**\n\nGenerative AI is finding widespread application across a diverse array of industries and business functions, fundamentally transforming existing workflows and enabling entirely new capabilities. Common areas of application include:\n\n*   **Content Creation:** Generating a wide range of content formats, including text for articles and marketing copy, images for design, audio for podcasts or music, and video for various media, serving purposes in marketing, entertainment, and beyond.\n*   **Software Development:** Providing assistance throughout the software development lifecycle, including generating code snippets, offering code completion suggestions, and aiding in code refactoring to improve efficiency and quality.\n*   **Marketing and Sales:** Enhancing marketing efforts through the creation of personalized content tailored to individual customers, optimizing marketing strategies based on data analysis, and improving overall customer engagement.\n*   **Healthcare and Pharmaceuticals:** Accelerating critical processes such as drug discovery, assisting in the analysis of complex medical data, and supporting diagnostics and the development of personalized treatment plans.\n*   **Customer Service:** Powering sophisticated chatbots and virtual assistants that can provide 24/7 support, handle inquiries, and offer personalized interactions to customers.\n*   **Business Operations:** Automating repetitive tasks, streamlining various business workflows to improve efficiency, and enhancing decision-making processes through advanced data analysis and the generation of insightful reports.\n*   **Finance:** Assisting in the development of investment strategies, drafting various financial documents and reports, and aiding in fraud detection by identifying suspicious patterns.\n\n**Challenges and Considerations**\n\nDespite its significant potential and rapid advancements, the widespread adoption and successful implementation of generative AI are accompanied by several notable challenges and considerations:\n\n*   **Data Quality and Availability:** Effective training of generative AI models requires vast quantities of high-quality, well-structured data. Many organizations face difficulties with fragmented data stored in silos, inconsistent data formats, and incomplete datasets, which can hinder model performance.\n*   **Ethical and Bias Concerns:** Significant ethical issues surround generative AI. These include concerns over data privacy and the potential for biases present in the training data to lead to biased or unfair outputs from the models. Furthermore, there are serious concerns about the potential for misuse of AI-generated content, such as the creation and spread of deepfakes and misinformation.\n*   **Computational Resources and Costs:** Training and running advanced generative AI models are computationally very intensive activities. This often necessitates substantial investment in high-performance computing infrastructure and can lead to significant ongoing operational costs, particularly for cloud-based deployments.\n*   **Integration with Existing Systems:** Integrating generative AI capabilities seamlessly into existing business systems and workflows can be a complex undertaking. This often requires considerable customization and careful planning to ensure compatibility and functionality.\n*   **User Adoption and Trust:** Successful adoption depends on human factors. Employees may exhibit resistance to integrating AI tools into their work, potentially due to fears of job displacement or a lack of understanding of how to effectively use the technology. Building trust in the outputs generated by AI is crucial, particularly regarding their accuracy, reliability, and the transparency of how results are derived.\n*   **Regulatory Compliance:** The regulatory landscape surrounding AI technology and data privacy is rapidly evolving globally. Organizations deploying generative AI must stay informed about new laws and regulations and ensure their AI practices and data handling remain compliant.\n*   **Governance and Risk Management:** Establishing robust governance frameworks and processes is essential for mitigating the inherent risks associated with generative AI. These risks include the generation of false or nonsensical information (\"hallucinations\"), the perpetuation of biases, and the creation of toxic or harmful content. Effective governance is needed to manage and minimize these potential negative outcomes.\n\n**Conclusion**\n\nIn conclusion, generative AI is currently in a phase marked by rapid expansion and deep integration across numerous sectors. The technology presents significant opportunities for innovation, efficiency gains, and the creation of novel content and capabilities. However, realizing the full potential of generative AI while mitigating its risks necessitates a proactive approach to addressing key challenges. Successfully navigating implementation requires careful consideration of issues related to data quality and availability, ethical implications and potential biases, the substantial computational resources and costs involved, the complexity of integration with existing infrastructure, the human factors of user adoption and trust, the need for continuous regulatory compliance, and the establishment of robust governance and risk management frameworks. The future trajectory of generative AI is anticipated to include further advancements in the capabilities of models, an increase in the autonomy of AI agents capable of independent action, and a growing emphasis on ensuring responsible and ethical deployment practices."
          },
          "metadata": {}
        },
        {
          "output_type": "display_data",
          "data": {
            "text/plain": [
              "<IPython.core.display.Markdown object>"
            ],
            "text/markdown": "## EditorAgent"
          },
          "metadata": {}
        },
        {
          "output_type": "display_data",
          "data": {
            "text/plain": [
              "<IPython.core.display.Markdown object>"
            ],
            "text/markdown": "Okay, EditorAgent here. I have reviewed the comprehensive report on the current state of Generative AI drafted by WriterAgent based on the information from ResearcherAgent.\n\nThe report is well-structured, informative, and covers the key aspects effectively: Introduction, Adoption & Market Growth, Technological Advancements, Applications, Challenges, and Conclusion. The language is professional and clear.\n\nHere is the quality check and some minor improvements for refinement:\n\n1.  **Introduction:** Clear and concise. Defines GenAI and lists the key areas to be covered. No changes needed.\n2.  **Rapid Adoption and Market Growth:**\n    *   The stats are presented clearly, referencing the McKinsey survey.\n    *   The varying market size estimates are acknowledged and presented with their respective years and CAGRs. This is handled well.\n    *   The explanation for North America's lead is good.\n    *   *Refinement:* Ensure consistent phrasing when referring to the sources of the market estimates if possible, but the current phrasing \"One projection...\" and \"Another estimate...\" is acceptable given the context.\n3.  **Key Technological Advancements and Trends:**\n    *   The transition into this section is smooth.\n    *   The bullet points clearly define each trend.\n    *   The descriptions are accurate and provide value.\n    *   *Minor point:* While LLMs are mostly transformer-based, listing \"transformer-based models and Large Language Models (LLMs)\" is redundant but not incorrect. It could potentially be simplified to just focus on \"deep neural networks, including advanced transformer architectures and Large Language Models (LLMs).\" However, the current phrasing is understandable. No mandatory change needed here.\n    *   The projection for Agentic AI in 2025 is noted.\n4.  **Applications Across Industries:**\n    *   The list is comprehensive and covers major sectors.\n    *   The descriptions are brief but effectively illustrate the application area.\n    *   No changes needed.\n5.  **Challenges and Considerations:**\n    *   The introduction to the challenges section is appropriate.\n    *   The bullet points highlight critical challenges.\n    *   The explanations for each challenge are detailed and relevant.\n    *   \"Hallucinations\" is explained parenthetically, which is good.\n    *   No significant changes needed.\n6.  **Conclusion:**\n    *   Effectively summarizes the report's key findings: current state (expansion, integration), opportunities, and the necessity of addressing challenges.\n    *   The concluding sentence looks ahead to future trends and the importance of responsible deployment.\n    *   No changes needed.\n\n**Overall Assessment:**\n\nThe report is high quality. It is well-organized, clearly written, and covers the topic comprehensively based on the provided information. The structure is logical, and the points flow well. There are no significant grammatical errors, typos, or awkward phrasing. The handling of the varying market size data is appropriate.\n\n**Proposed Edits (Minor):**\n\nThe report is already excellent. No substantive edits are required. The language is strong and clear throughout. I might make tiny tweaks for flow in a few places, but they are really stylistic preferences rather than necessary improvements. For instance, in the intro of the \"Challenges\" section, \"Despite its significant potential and rapid advancements, the widespread adoption and successful implementation of generative AI are accompanied by several notable challenges and considerations:\" is a perfectly good sentence. I might rephrase slightly for variety if this were part of a larger document, but stand-alone, it's fine.\n\n**Final Quality Check Result:**\n\nThe report meets high-quality standards. It is accurate (based on the provided context), clear, well-structured, and effectively communicates the current state of generative AI, its potential, and its challenges.\n\nNo changes are strictly necessary, as the report is already very good. I will return the report as is, confirming its quality.\n\n```\n## Comprehensive Report on the Current State of Generative AI\n\n**Introduction**\n\nGenerative AI, a rapidly evolving subfield of artificial intelligence, is focused on the creation of new content, including text, images, audio, code, simulations, and videos. This process is based on patterns learned by AI models from extensive training data. The current state of generative AI is characterized by several key aspects: explosive growth in adoption across organizations, significant advancements in underlying technology, a widening scope of applications spanning numerous industries, substantial expansion of the market size, and ongoing efforts to identify and address the associated challenges and ethical considerations.\n\n**Rapid Adoption and Market Growth**\n\nGenerative AI is experiencing a dramatic increase in adoption within organizations. According to a McKinsey survey cited in the provided information, the proportion of organizations using generative AI nearly doubled in a single year, rising from 33% in 2023 to 71% in 2024. Broader AI adoption among large companies has also seen a significant surge, showing a 47% increase compared to data from 2018.\n\nThis widespread organizational uptake is fueling substantial growth in the generative AI market. Estimates for the global generative AI market size vary, reflecting the dynamic nature of the field. One projection values the market at approximately USD 16.87 billion in 2024, forecasting growth to between USD 109.37 billion by 2030 and a higher estimate of USD 890.59 billion by 2032, indicating impressive Compound Annual Growth Rates (CAGRs). Another estimate places the 2024 market size at USD 36.06 billion, with a projection for rapid expansion to USD 763.75 billion by 2032, driven by a strong CAGR of 46.45%. Geographically, North America currently holds the largest share of the global generative AI market. This leading position is primarily attributed to significant investment in AI technologies and the presence of many leading AI companies within the region.\n\n**Key Technological Advancements and Trends**\n\nRecent progress in generative AI is largely powered by continuous improvements in deep neural networks, with a particular emphasis on transformer-based models and Large Language Models (LLMs). Several key technological trends are actively shaping the current generative AI landscape:\n\n*   **Multimodal AI:** Models are evolving to process and generate multiple types of data simultaneously, moving beyond traditional text-only capabilities. This includes handling text, images, audio, and video, leading to more natural, human-like interactions and enabling more versatile applications.\n*   **Agentic AI:** The emergence of AI agents capable of taking autonomous actions and performing complex tasks represents a significant trend, projected to gain prominence in 2025. These agents can manage diverse responsibilities such as scheduling, email handling, and report preparation without constant human input.\n*   **Smaller Language Models (SLMs):** While large, powerful models like GPT-4 exist, Smaller Language Models (SLMs) are increasingly gaining traction. Their advantages include near-instantaneous responsiveness, lower resource requirements, and a reduced workload on cloud infrastructure compared to their larger counterparts.\n*   **Retrieval-Augmented Generation (RAG):** This technique enhances the accuracy and reliability of generative AI outputs. RAG allows models to search and incorporate information from external data sources, ensuring that the generated content is based on up-to-date and relevant information.\n*   **AI-First Applications:** Generative AI is transitioning from being a potential add-on feature to becoming a fundamental, integral part of application design from the outset. This \"AI-First\" approach allows for more deeply integrated and effective AI functionalities.\n*   **Open-Source Models:** The availability of open-source generative AI models is increasing. This trend contributes to the democratization of access to generative AI technology, making it more accessible for development and implementation across a wider range of users and organizations.\n\n**Applications Across Industries**\n\nGenerative AI is finding widespread application across a diverse array of industries and business functions, fundamentally transforming existing workflows and enabling entirely new capabilities. Common areas of application include:\n\n*   **Content Creation:** Generating a wide range of content formats, including text for articles and marketing copy, images for design, audio for podcasts or music, and video for various media, serving purposes in marketing, entertainment, and beyond.\n*   **Software Development:** Providing assistance throughout the software development lifecycle, including generating code snippets, offering code completion suggestions, and aiding in code refactoring to improve efficiency and quality.\n*   **Marketing and Sales:** Enhancing marketing efforts through the creation of personalized content tailored to individual customers, optimizing marketing strategies based on data analysis, and improving overall customer engagement.\n*   **Healthcare and Pharmaceuticals:** Accelerating critical processes such as drug discovery, assisting in the analysis of complex medical data, and supporting diagnostics and the development of personalized treatment plans.\n*   **Customer Service:** Powering sophisticated chatbots and virtual assistants that can provide 24/7 support, handle inquiries, and offer personalized interactions to customers.\n*   **Business Operations:** Automating repetitive tasks, streamlining various business workflows to improve efficiency, and enhancing decision-making processes through advanced data analysis and the generation of insightful reports.\n*   **Finance:** Assisting in the development of investment strategies, drafting various financial documents and reports, and aiding in fraud detection by identifying suspicious patterns.\n\n**Challenges and Considerations**\n\nDespite its significant potential and rapid advancements, the widespread adoption and successful implementation of generative AI are accompanied by several notable challenges and considerations:\n\n*   **Data Quality and Availability:** Effective training of generative AI models requires vast quantities of high-quality, well-structured data. Many organizations face difficulties with fragmented data stored in silos, inconsistent data formats, and incomplete datasets, which can hinder model performance.\n*   **Ethical and Bias Concerns:** Significant ethical issues surround generative AI. These include concerns over data privacy and the potential for biases present in the training data to lead to biased or unfair outputs from the models. Furthermore, there are serious concerns about the potential for misuse of AI-generated content, such as the creation and spread of deepfakes and misinformation.\n*   **Computational Resources and Costs:** Training and running advanced generative AI models are computationally very intensive activities. This often necessitates substantial investment in high-performance computing infrastructure and can lead to significant ongoing operational costs, particularly for cloud-based deployments.\n*   **Integration with Existing Systems:** Integrating generative AI capabilities seamlessly into existing business systems and workflows can be a complex undertaking. This often requires considerable customization and careful planning to ensure compatibility and functionality.\n*   **User Adoption and Trust:** Successful adoption depends on human factors. Employees may exhibit resistance to integrating AI tools into their work, potentially due to fears of job displacement or a lack of understanding of how to effectively use the technology. Building trust in the outputs generated by AI is crucial, particularly regarding their accuracy, reliability, and the transparency of how results are derived.\n*   **Regulatory Compliance:** The regulatory landscape surrounding AI technology and data privacy is rapidly evolving globally. Organizations deploying generative AI must stay informed about new laws and regulations and ensure their AI practices and data handling remain compliant.\n*   **Governance and Risk Management:** Establishing robust governance frameworks and processes is essential for mitigating the inherent risks associated with generative AI. These risks include the generation of false or nonsensical information (\"hallucinations\"), the perpetuation of biases, and the creation of toxic or harmful content. Effective governance is needed to manage and minimize these potential negative outcomes.\n\n**Conclusion**\n\nIn conclusion, generative AI is currently in a phase marked by rapid expansion and deep integration across numerous sectors. The technology presents significant opportunities for innovation, efficiency gains, and the creation of novel content and capabilities. However, realizing the full potential of generative AI while mitigating its risks necessitates a proactive approach to addressing key challenges. Successfully navigating implementation requires careful consideration of issues related to data quality and availability, ethical implications and potential biases, the substantial computational resources and costs involved, the complexity of integration with existing infrastructure, the human factors of user adoption and trust, the need for continuous regulatory compliance, and the establishment of robust governance and risk management frameworks. The future trajectory of generative AI is anticipated to include further advancements in the capabilities of models, an increase in the autonomy of AI agents capable of independent action, and a growing emphasis on ensuring responsible and ethical deployment practices.\n```\n\nThe report is high quality and requires no further edits.\n\n```json\n{\n  \"edit_status\": \"no_changes\",\n  \"quality_assessment\": {\n    \"overall_quality\": \"High\",\n    \"clarity\": \"Excellent\",\n    \"conciseness\": \"Good\",\n    \"accuracy\": \"Consistent with provided context\",\n    \"flow_and_structure\": \"Excellent\",\n    \"grammar_and_spelling\": \"Excellent\"\n  },\n  \"notes\": \"The report is well-written, well-structured, and comprehensive based on the source material. No edits were necessary to meet high-quality standards.\"\n}\n```"
          },
          "metadata": {}
        }
      ],
      "source": [
        "topic = \"Write about the current state of generative ai\"\n",
        "output = await run_agent(sequential_runner, USER_ID, SESSION_ID, topic)\n",
        "report = output['EditorAgent']"
      ]
    },
    {
      "cell_type": "markdown",
      "id": "09d2a303-ad0e-4059-b9d1-e504b61317da",
      "metadata": {
        "id": "09d2a303-ad0e-4059-b9d1-e504b61317da"
      },
      "source": [
        "## Parallel Agents\n",
        "\n",
        "Sometimes, running agents in parallel is desirable, particularly for tasks like translation. The Agent Developer Kit supports such parallel orchestration. In this session, you will create a parallel pipeline designed to translate a report into several languages simultaneously."
      ]
    },
    {
      "cell_type": "code",
      "execution_count": 8,
      "id": "15f5e192-8bc1-4cbc-b716-ffb656da70eb",
      "metadata": {
        "id": "15f5e192-8bc1-4cbc-b716-ffb656da70eb"
      },
      "outputs": [],
      "source": [
        "# Define variables\n",
        "APP_NAME = \"parallel_app\"\n",
        "USER_ID = \"parallel_user\"\n",
        "SESSION_ID = \"parallel_session\""
      ]
    },
    {
      "cell_type": "markdown",
      "id": "H6bWVNn9l0OT",
      "metadata": {
        "id": "H6bWVNn9l0OT"
      },
      "source": [
        "#### Initialize the agents and pipeline"
      ]
    },
    {
      "cell_type": "code",
      "execution_count": 9,
      "id": "edbe5a33-25df-4513-99ae-ebd6a87bce21",
      "metadata": {
        "id": "edbe5a33-25df-4513-99ae-ebd6a87bce21"
      },
      "outputs": [],
      "source": [
        "# Define respective agents and pipeline\n",
        "bahasa_translator = LlmAgent(\n",
        "    name=\"BahasaAgent\",\n",
        "    model=GEMINI_MODEL_NAME,\n",
        "    instruction=\"Your task is to translate the given report into Bahasa lanaguage\",\n",
        "    description=\"Translate a given report to Bahasa\",\n",
        "    output_key=\"bahasa_version\"\n",
        ")\n",
        "\n",
        "thai_translator = LlmAgent(\n",
        "    name=\"ThaiAgent\",\n",
        "    model=GEMINI_MODEL_NAME,\n",
        "    instruction=\"Your task is to translate the given report into Thai lanaguage\",\n",
        "    description=\"Translate a given report to Thai\",\n",
        "    output_key=\"thai_version\"\n",
        ")\n",
        "\n",
        "vietnamese_translator = LlmAgent(\n",
        "    name=\"VietnameseAgent\",\n",
        "    model=GEMINI_MODEL_NAME,\n",
        "    instruction=\"Your task is to translate the given report into Vietnamese lanaguage\",\n",
        "    description=\"Translate a given report to Vietnamese\",\n",
        "    output_key=\"vietnam_version\"\n",
        ")\n",
        "\n",
        "parallel_pipeline = ParallelAgent(\n",
        "    name=\"TranslationPipelineAgent\",\n",
        "    sub_agents=[bahasa_translator, thai_translator, vietnamese_translator],\n",
        "    description=\"Runs multiple tranlsation agents in parallel to translate the report.\",\n",
        ")"
      ]
    },
    {
      "cell_type": "markdown",
      "id": "tqgYTBQAl6BX",
      "metadata": {
        "id": "tqgYTBQAl6BX"
      },
      "source": [
        "#### Initialize Session & Runner"
      ]
    },
    {
      "cell_type": "code",
      "execution_count": 10,
      "id": "84237312-e2b5-4729-9630-96f70305f479",
      "metadata": {
        "id": "84237312-e2b5-4729-9630-96f70305f479"
      },
      "outputs": [],
      "source": [
        "# Initialize Session\n",
        "session_service = InMemorySessionService()\n",
        "\n",
        "session = await session_service.create_session(\n",
        "    app_name=APP_NAME,\n",
        "    user_id=USER_ID,\n",
        "    session_id=SESSION_ID\n",
        ")\n",
        "\n",
        "# Initialize Runner\n",
        "parallel_runner = Runner(\n",
        "    agent=parallel_pipeline,\n",
        "    app_name=APP_NAME,\n",
        "    session_service=session_service,\n",
        ")"
      ]
    },
    {
      "cell_type": "code",
      "execution_count": 11,
      "id": "v4lTRdgxmWvN",
      "metadata": {
        "colab": {
          "base_uri": "https://localhost:8080/",
          "height": 1000
        },
        "id": "v4lTRdgxmWvN",
        "outputId": "7aa32fdb-cb63-4606-90c7-9dc9a5b6a5ae"
      },
      "outputs": [
        {
          "output_type": "display_data",
          "data": {
            "text/plain": [
              "<IPython.core.display.Markdown object>"
            ],
            "text/markdown": "## ThaiAgent"
          },
          "metadata": {}
        },
        {
          "output_type": "display_data",
          "data": {
            "text/plain": [
              "<IPython.core.display.Markdown object>"
            ],
            "text/markdown": "เรียน ท่านผู้เกี่ยวข้อง,\n\nนี่คือ EditorAgent ได้ทำการตรวจทานรายงานฉบับสมบูรณ์เกี่ยวกับสถานะปัจจุบันของ AI สร้างสรรค์ (Generative AI) ซึ่งร่างขึ้นโดย WriterAgent โดยอิงจากข้อมูลที่ได้จาก ResearcherAgent\n\nรายงานฉบับนี้มีโครงสร้างที่ดี ให้ข้อมูลครบถ้วน และครอบคลุมประเด็นสำคัญได้อย่างมีประสิทธิภาพ ประกอบด้วย: บทนำ, การยอมรับและการเติบโตของตลาด, ความก้าวหน้าทางเทคโนโลยี, การประยุกต์ใช้, ความท้าทาย, และบทสรุป ภาษาที่ใช้เป็นภาษามืออาชีพและชัดเจน\n\nนี่คือการตรวจสอบคุณภาพและการปรับปรุงเล็กน้อยเพื่อความสมบูรณ์ยิ่งขึ้น:\n\n1.  **บทนำ:** ชัดเจนและกระชับ ให้คำจำกัดความของ GenAI และระบุขอบเขตประเด็นสำคัญที่จะกล่าวถึง ไม่จำเป็นต้องมีการเปลี่ยนแปลงใดๆ\n2.  **การยอมรับอย่างรวดเร็วและการเติบโตของตลาด:**\n    *   มีการนำเสนอสถิติอย่างชัดเจน โดยอ้างอิงแบบสำรวจของ McKinsey\n    *   ยอมรับและนำเสนอการประมาณการขนาดตลาดที่แตกต่างกัน โดยระบุปีและ CAGR ที่เกี่ยวข้อง ซึ่งจัดการได้ดี\n    *   คำอธิบายเกี่ยวกับการเป็นผู้นำของอเมริกาเหนือนั้นดี\n    *   *การปรับปรุง:* หากเป็นไปได้ ควรตรวจสอบให้แน่ใจว่ามีการใช้สำนวนที่สอดคล้องกันในการอ้างอิงแหล่งที่มาของการประมาณการตลาด แต่การใช้สำนวน \"One projection...\" และ \"Another estimate...\" เป็นที่ยอมรับได้ตามบริบทปัจจุบัน\n3.  **ความก้าวหน้าและแนวโน้มทางเทคโนโลยีที่สำคัญ:**\n    *   การเปลี่ยนถ่ายเข้าสู่ส่วนนี้เป็นไปอย่างราบรื่น\n    *   หัวข้อย่อยระบุแนวโน้มแต่ละอย่างได้อย่างชัดเจน\n    *   คำอธิบายมีความถูกต้องแม่นยำและให้คุณค่า\n    *   *ประเด็นเล็กน้อย:* แม้ว่า LLM ส่วนใหญ่จะใช้สถาปัตยกรรม Transformer แต่การระบุ \"transformer-based models and Large Language Models (LLMs)\" ก็ซ้ำซ้อนแต่ไม่ผิด อาจทำให้ง่ายขึ้นโดยเน้นที่ \"deep neural networks, including advanced transformer architectures and Large Language Models (LLMs)\" อย่างไรก็ตาม การใช้สำนวนปัจจุบันก็เข้าใจได้ ไม่จำเป็นต้องมีการเปลี่ยนแปลงใดๆ ที่บังคับ\n    *   มีการระบุการคาดการณ์สำหรับ Agentic AI ในปี 2025\n4.  **การประยุกต์ใช้ในอุตสาหกรรมต่างๆ:**\n    *   รายการครอบคลุมภาคส่วนหลักๆ ได้อย่างครบถ้วน\n    *   คำอธิบายสั้นแต่สามารถแสดงให้เห็นภาพของขอบเขตการประยุกต์ใช้ได้อย่างมีประสิทธิภาพ\n    *   ไม่จำเป็นต้องมีการเปลี่ยนแปลงใดๆ\n5.  **ความท้าทายและข้อควรพิจารณา:**\n    *   บทนำสำหรับส่วนความท้าทายนั้นเหมาะสม\n    *   หัวข้อย่อยเน้นความท้าทายที่สำคัญ\n    *   คำอธิบายสำหรับแต่ละความท้าทายมีความละเอียดและเกี่ยวข้อง\n    *   มีการอธิบายคำว่า \"Hallucinations\" ไว้ในวงเล็บ ซึ่งเป็นสิ่งที่ดี\n    *   ไม่จำเป็นต้องมีการเปลี่ยนแปลงที่มีนัยสำคัญใดๆ\n6.  **บทสรุป:**\n    *   สรุปผลการค้นพบหลักของรายงานได้อย่างมีประสิทธิภาพ: สถานะปัจจุบัน (การขยายตัว, การบูรณาการ), โอกาส, และความจำเป็นในการแก้ไขความท้าทาย\n    *   ประโยคสรุปมองไปข้างหน้าถึงแนวโน้มในอนาคตและความสำคัญของการนำไปใช้อย่างมีความรับผิดชอบ\n    *   ไม่จำเป็นต้องมีการเปลี่ยนแปลงใดๆ\n\n**การประเมินโดยรวม:**\n\nรายงานฉบับนี้มีคุณภาพสูง จัดระเบียบได้ดี เขียนได้อย่างชัดเจน และครอบคลุมหัวข้อได้อย่างรอบด้านตามข้อมูลที่ให้มา โครงสร้างเป็นไปตามหลักตรรกะ และเนื้อหาไหลลื่น ไม่มีข้อผิดพลาดทางไวยากรณ์ การพิมพ์ผิด หรือการใช้สำนวนที่น่าอึดอัดอย่างมีนัยสำคัญ การจัดการกับข้อมูลขนาดตลาดที่แตกต่างกันนั้นเหมาะสม\n\n**การแก้ไขที่เสนอ (เล็กน้อย):**\n\nรายงานนี้ยอดเยี่ยมอยู่แล้ว ไม่จำเป็นต้องมีการแก้ไขที่สำคัญใดๆ ภาษาที่ใช้แข็งแรงและชัดเจนตลอดทั้งฉบับ อาจมีการปรับเปลี่ยนเล็กน้อยเพื่อให้เนื้อหาไหลลื่นขึ้นในบางจุด แต่เป็นการปรับตามความชอบด้านรูปแบบการเขียนมากกว่าการปรับปรุงที่จำเป็น ตัวอย่างเช่น ในบทนำของส่วน \"ความท้าทาย\" ประโยคที่ว่า \"Despite its significant potential and rapid advancements, the widespread adoption and successful implementation of generative AI are accompanied by several notable challenges and considerations:\" เป็นประโยคที่ดีเยี่ยมแล้ว หากเป็นส่วนหนึ่งของเอกสารที่ใหญ่กว่า อาจมีการปรับเปลี่ยนสำนวนเล็กน้อยเพื่อความหลากหลาย แต่เมื่อแยกอยู่เดี่ยวๆ ก็ถือว่าดี\n\n**ผลการตรวจสอบคุณภาพขั้นสุดท้าย:**\n\nรายงานเป็นไปตามมาตรฐานคุณภาพสูง มีความถูกต้องแม่นยำ (อิงตามบริบทที่ให้มา) ชัดเจน มีโครงสร้างที่ดี และสื่อสารสถานะปัจจุบันของ AI สร้างสรรค์ ศักยภาพ และความท้าทาย ได้อย่างมีประสิทธิภาพ\n\nไม่จำเป็นต้องมีการเปลี่ยนแปลงใดๆ โดยเคร่งครัด เนื่องจากรายงานนี้ดีมากอยู่แล้ว จะทำการส่งคืนรายงานตามที่เป็นอยู่ เพื่อยืนยันคุณภาพของรายงาน\n\n```\n## รายงานฉบับสมบูรณ์เกี่ยวกับสถานะปัจจุบันของ AI สร้างสรรค์\n\n**บทนำ**\n\nAI สร้างสรรค์ (Generative AI) ซึ่งเป็นสาขาย่อยของปัญญาประดิษฐ์ที่กำลังพัฒนาอย่างรวดเร็ว มุ่งเน้นไปที่การสร้างเนื้อหาใหม่ รวมถึงข้อความ รูปภาพ เสียง โค้ด การจำลอง และวิดีโอ กระบวนการนี้อาศัยรูปแบบที่แบบจำลอง AI เรียนรู้จากชุดข้อมูลการฝึกอบรมขนาดใหญ่ สถานะปัจจุบันของ AI สร้างสรรค์มีลักษณะเด่นหลายประการ ได้แก่: การเติบโตอย่างมหาศาลในการยอมรับในองค์กรต่างๆ ความก้าวหน้าอย่างมีนัยสำคัญในเทคโนโลยีพื้นฐาน ขอบเขตการประยุกต์ใช้ที่กว้างขวางครอบคลุมอุตสาหกรรมจำนวนมาก การขยายตัวอย่างมากของขนาดตลาด และความพยายามอย่างต่อเนื่องในการระบุและจัดการกับความท้าทายและข้อควรพิจารณาด้านจริยธรรมที่เกี่ยวข้อง\n\n**การยอมรับอย่างรวดเร็วและการเติบโตของตลาด**\n\nAI สร้างสรรค์กำลังประสบกับการเพิ่มขึ้นอย่างมากในการยอมรับภายในองค์กรต่างๆ จากการสำรวจของ McKinsey ที่อ้างอิงในข้อมูลที่ให้มา สัดส่วนขององค์กรที่ใช้ AI สร้างสรรค์เกือบสองเท่าภายในหนึ่งปี โดยเพิ่มขึ้นจาก 33% ในปี 2023 เป็น 71% ในปี 2024 การยอมรับ AI ในวงกว้างในบริษัทขนาดใหญ่ก็มีการเพิ่มขึ้นอย่างมากเช่นกัน โดยเพิ่มขึ้น 47% เมื่อเทียบกับข้อมูลในปี 2018\n\nการยอมรับในองค์กรอย่างแพร่หลายนี้กำลังขับเคลื่อนการเติบโตที่สำคัญในตลาด AI สร้างสรรค์ การประมาณการขนาดตลาด AI สร้างสรรค์ทั่วโลกมีความแตกต่างกันไป ซึ่งสะท้อนถึงลักษณะที่เปลี่ยนแปลงอย่างรวดเร็วของสาขานี้ การคาดการณ์หนึ่งประเมินว่าตลาดมีมูลค่าประมาณ 1.687 หมื่นล้านดอลลาร์สหรัฐในปี 2024 และคาดว่าจะเติบโตเป็นระหว่าง 1.0937 แสนล้านดอลลาร์สหรัฐภายในปี 2030 และสูงกว่าที่ 8.9059 แสนล้านดอลลาร์สหรัฐภายในปี 2032 ซึ่งบ่งชี้ถึงอัตราการเติบโตต่อปีแบบทบต้น (CAGR) ที่น่าประทับใจ การประมาณการอีกอย่างหนึ่งระบุขนาดตลาดในปี 2024 อยู่ที่ 3.606 หมื่นล้านดอลลาร์สหรัฐ โดยคาดว่าจะขยายตัวอย่างรวดเร็วเป็น 7.6375 แสนล้านดอลลาร์สหรัฐภายในปี 2032 ซึ่งขับเคลื่อนโดย CAGR ที่แข็งแกร่งถึง 46.45% ในด้านภูมิศาสตร์ ปัจจุบันอเมริกาเหนือครองส่วนแบ่งที่ใหญ่ที่สุดในตลาด AI สร้างสรรค์ทั่วโลก ตำแหน่งผู้นำนี้มีสาเหตุหลักมาจากการลงทุนอย่างมากในเทคโนโลยี AI และการมีบริษัท AI ชั้นนำจำนวนมากอยู่ในภูมิภาคนี้\n\n**ความก้าวหน้าและแนวโน้มทางเทคโนโลยีที่สำคัญ**\n\nความคืบหน้าล่าสุดใน AI สร้างสรรค์ ส่วนใหญ่ขับเคลื่อนโดยการปรับปรุงอย่างต่อเนื่องในโครงข่ายประสาทเทียมเชิงลึก โดยเน้นเป็นพิเศษที่แบบจำลองที่ใช้สถาปัตยกรรม Transformer และแบบจำลองภาษาขนาดใหญ่ (Large Language Models - LLMs) แนวโน้มทางเทคโนโลยีที่สำคัญหลายประการกำลังกำหนดทิศทางของ AI สร้างสรรค์ในปัจจุบัน:\n\n*   **Multimodal AI:** แบบจำลองกำลังพัฒนาไปสู่การประมวลผลและสร้างข้อมูลหลายประเภทพร้อมกัน ก้าวข้ามความสามารถแบบดั้งเดิมที่จำกัดเฉพาะข้อความ ซึ่งรวมถึงการจัดการข้อความ รูปภาพ เสียง และวิดีโอ นำไปสู่การปฏิสัมพันธ์ที่เป็นธรรมชาติและคล้ายมนุษย์มากขึ้น และเปิดใช้งานการประยุกต์ใช้ที่หลากหลายยิ่งขึ้น\n*   **Agentic AI:** การเกิดขึ้นของ AI agents ที่สามารถดำเนินการอัตโนมัติและทำงานที่ซับซ้อนได้ แสดงถึงแนวโน้มที่สำคัญ ซึ่งคาดว่าจะมีความสำคัญมากขึ้นในปี 2025 agents เหล่านี้สามารถจัดการความรับผิดชอบที่หลากหลาย เช่น การกำหนดตารางเวลา การจัดการอีเมล และการจัดทำรายงาน โดยไม่ต้องมีการป้อนข้อมูลจากมนุษย์อย่างต่อเนื่อง\n*   **Smaller Language Models (SLMs):** ในขณะที่มีแบบจำลองขนาดใหญ่และทรงพลังอย่าง GPT-4 อยู่ Small Language Models (SLMs) กำลังได้รับความนิยมเพิ่มขึ้น ข้อได้เปรียบของ SLMs ได้แก่ การตอบสนองที่เกือบจะทันที ความต้องการทรัพยากรที่ต่ำกว่า และลดภาระงานบนโครงสร้างพื้นฐานคลาวด์เมื่อเทียบกับแบบจำลองขนาดใหญ่\n*   **Retrieval-Augmented Generation (RAG):** เทคนิคนี้ช่วยเพิ่มความแม่นยำและความน่าเชื่อถือของผลลัพธ์จาก AI สร้างสรรค์ RAG ช่วยให้แบบจำลองสามารถค้นหาและรวมข้อมูลจากแหล่งข้อมูลภายนอกได้ ทำให้มั่นใจได้ว่าเนื้อหาที่สร้างขึ้นนั้นอิงจากข้อมูลที่เป็นปัจจุบันและเกี่ยวข้อง\n*   **AI-First Applications:** AI สร้างสรรค์กำลังเปลี่ยนจากคุณสมบัติเสริมที่เป็นไปได้ มาเป็นส่วนพื้นฐานและเป็นส่วนสำคัญของการออกแบบแอปพลิเคชันตั้งแต่เริ่มต้น แนวทาง \"AI-First\" นี้ช่วยให้การทำงานของ AI ถูกรวมเข้าด้วยกันอย่างลึกซึ้งและมีประสิทธิภาพมากขึ้น\n*   **Open-Source Models:** ความพร้อมใช้งานของแบบจำลอง AI สร้างสรรค์แบบโอเพนซอร์สกำลังเพิ่มขึ้น แนวโน้มนี้มีส่วนช่วยในการทำให้เทคโนโลยี AI สร้างสรรค์เข้าถึงได้ง่ายขึ้น ทำให้ผู้ใช้และองค์กรในวงกว้างสามารถเข้าถึงสำหรับการพัฒนาและการนำไปใช้ได้ง่ายขึ้น\n\n**การประยุกต์ใช้ในอุตสาหกรรมต่างๆ**\n\nAI สร้างสรรค์กำลังมีการประยุกต์ใช้ในวงกว้างในอุตสาหกรรมและฟังก์ชันธุรกิจที่หลากหลาย โดยเปลี่ยนแปลงกระบวนการทำงานที่มีอยู่ และเปิดใช้งานความสามารถใหม่ๆ โดยสิ้นเชิง พื้นที่การประยุกต์ใช้ทั่วไป ได้แก่:\n\n*   **การสร้างเนื้อหา:** สร้างเนื้อหาในรูปแบบต่างๆ ได้อย่างกว้างขวาง เช่น ข้อความสำหรับบทความและเนื้อหาทางการตลาด รูปภาพสำหรับการออกแบบ เสียงสำหรับพอดคาสต์หรือดนตรี และวิดีโอสำหรับสื่อต่างๆ โดยมีวัตถุประสงค์ในการตลาด ความบันเทิง และอื่นๆ\n*   **การพัฒนาซอฟต์แวร์:** ให้ความช่วยเหลือตลอดวงจรการพัฒนาซอฟต์แวร์ รวมถึงการสร้างโค้ดสั้นๆ การเสนอคำแนะนำในการเติมโค้ด และการช่วยในการปรับปรุงโค้ด (code refactoring) เพื่อเพิ่มประสิทธิภาพและคุณภาพ\n*   **การตลาดและการขาย:** ยกระดับความพยายามทางการตลาดผ่านการสร้างเนื้อหาที่ปรับให้เหมาะกับลูกค้ารายบุคคล การเพิ่มประสิทธิภาพกลยุทธ์ทางการตลาดโดยอิงจากการวิเคราะห์ข้อมูล และการปรับปรุงการมีส่วนร่วมกับลูกค้าโดยรวม\n*   **การดูแลสุขภาพและเภสัชกรรม:** เร่งกระบวนการที่สำคัญ เช่น การค้นพบยา ช่วยในการวิเคราะห์ข้อมูลทางการแพทย์ที่ซับซ้อน และสนับสนุนการวินิจฉัยและการพัฒนาแผนการรักษาแบบเฉพาะบุคคล\n*   **การบริการลูกค้า:** ขับเคลื่อนแชทบอทและผู้ช่วยเสมือนที่ซับซ้อน ซึ่งสามารถให้การสนับสนุนตลอด 24 ชั่วโมงทุกวัน จัดการข้อซักถาม และเสนอการโต้ตอบแบบเฉพาะบุคคลให้กับลูกค้า\n*   **การดำเนินธุรกิจ:** ทำให้งานที่ซ้ำซ้อนเป็นไปโดยอัตโนมัติ ปรับปรุงกระบวนการทำงานทางธุรกิจต่างๆ เพื่อเพิ่มประสิทธิภาพ และยกระดับกระบวนการตัดสินใจผ่านการวิเคราะห์ข้อมูลขั้นสูงและการสร้างรายงานเชิงลึก\n*   **การเงิน:** ช่วยในการพัฒนากลยุทธ์การลงทุน ร่างเอกสารและรายงานทางการเงินต่างๆ และช่วยในการตรวจจับการฉ้อโกงโดยการระบุรูปแบบที่น่าสงสัย\n\n**ความท้าทายและข้อควรพิจารณา**\n\nแม้จะมีศักยภาพที่สำคัญและความก้าวหน้าอย่างรวดเร็ว การนำ AI สร้างสรรค์มาใช้และนำไปปฏิบัติได้อย่างประสบความสำเร็จในวงกว้างนั้นมาพร้อมกับความท้าทายและข้อควรพิจารณาที่น่าสังเกตหลายประการ:\n\n*   **คุณภาพและความพร้อมใช้งานของข้อมูล:** การฝึกอบรมแบบจำลอง AI สร้างสรรค์อย่างมีประสิทธิภาพต้องใช้ข้อมูลปริมาณมากที่มีคุณภาพสูงและมีโครงสร้างที่ดี องค์กรจำนวนมากเผชิญกับความยากลำบากจากข้อมูลที่กระจัดกระจายอยู่ในระบบแยกส่วน รูปแบบข้อมูลที่ไม่สอดคล้องกัน และชุดข้อมูลที่ไม่สมบูรณ์ ซึ่งอาจขัดขวางประสิทธิภาพของแบบจำลอง\n*   **ข้อกังวลด้านจริยธรรมและอคติ:** ปัญหาด้านจริยธรรมที่สำคัญรายล้อม AI สร้างสรรค์ ซึ่งรวมถึงข้อกังวลเกี่ยวกับความเป็นส่วนตัวของข้อมูล และความเป็นไปได้ที่อคติที่มีอยู่ในข้อมูลการฝึกอบรมจะนำไปสู่ผลลัพธ์ที่มีอคติหรือไม่ยุติธรรมจากแบบจำลอง นอกจากนี้ ยังมีข้อกังวลร้ายแรงเกี่ยวกับความเป็นไปได้ในการนำเนื้อหาที่สร้างโดย AI ไปใช้ในทางที่ผิด เช่น การสร้างและการแพร่กระจายของ deepfakes และข้อมูลที่ผิด\n*   **ทรัพยากรคอมพิวเตอร์และต้นทุน:** การฝึกอบรมและการรันแบบจำลอง AI สร้างสรรค์ขั้นสูงเป็นกิจกรรมที่ต้องใช้พลังการคำนวณสูงมาก สิ่งนี้มักต้องมีการลงทุนอย่างมากในโครงสร้างพื้นฐานคอมพิวเตอร์ประสิทธิภาพสูง และอาจนำไปสู่ต้นทุนการดำเนินงานที่สำคัญอย่างต่อเนื่อง โดยเฉพาะอย่างยิ่งสำหรับการใช้งานบนคลาวด์\n*   **การรวมเข้ากับระบบที่มีอยู่:** การรวมความสามารถของ AI สร้างสรรค์เข้ากับระบบธุรกิจและกระบวนการทำงานที่มีอยู่ได้อย่างราบรื่น อาจเป็นงานที่ซับซ้อน ซึ่งมักต้องมีการปรับแต่งจำนวนมากและการวางแผนอย่างรอบคอบเพื่อให้แน่ใจว่าเข้ากันได้และทำงานได้\n*   **การยอมรับและความไว้วางใจจากผู้ใช้:** การนำไปใช้ที่ประสบความสำเร็จขึ้นอยู่กับปัจจัยด้านมนุษย์ พนักงานอาจแสดงความต่อต้านในการนำเครื่องมือ AI มาใช้ในการทำงาน ซึ่งอาจเกิดจากความกลัวว่าจะถูกแย่งงาน หรือขาดความเข้าใจวิธีการใช้เทคโนโลยีอย่างมีประสิทธิภาพ การสร้างความไว้วางใจในผลลัพธ์ที่สร้างโดย AI เป็นสิ่งสำคัญ โดยเฉพาะอย่างยิ่งเกี่ยวกับความแม่นยำ ความน่าเชื่อถือ และความโปร่งใสของวิธีการได้มาซึ่งผลลัพธ์\n*   **การปฏิบัติตามกฎระเบียบ:** ภูมิทัศน์ด้านกฎระเบียบที่เกี่ยวข้องกับเทคโนโลยี AI และความเป็นส่วนตัวของข้อมูลกำลังเปลี่ยนแปลงอย่างรวดเร็วทั่วโลก องค์กรที่นำ AI สร้างสรรค์มาใช้ต้องติดตามข่าวสารเกี่ยวกับกฎหมายและข้อบังคับใหม่ๆ และตรวจสอบให้แน่ใจว่าแนวทางการใช้ AI และการจัดการข้อมูลของตนยังคงปฏิบัติตาม\n*   **ธรรมาภิบาลและการบริหารความเสี่ยง:** การจัดตั้งกรอบงานธรรมาภิบาลและกระบวนการที่แข็งแกร่งเป็นสิ่งจำเป็นสำหรับการลดความเสี่ยงที่มาพร้อมกับ AI สร้างสรรค์โดยธรรมชาติ ความเสี่ยงเหล่านี้รวมถึงการสร้างข้อมูลที่ผิดหรือไม่มีเหตุผล (\"อาการหลอน\" - hallucinations) การทำให้เกิดอคติที่คงอยู่ และการสร้างเนื้อหาที่เป็นพิษหรือเป็นอันตราย จำเป็นต้องมีธรรมาภิบาลที่มีประสิทธิภาพเพื่อจัดการและลดผลลัพธ์เชิงลบที่อาจเกิดขึ้นเหล่านี้\n\n**บทสรุป**\n\nกล่าวโดยสรุป AI สร้างสรรค์กำลังอยู่ในระยะที่มีการขยายตัวอย่างรวดเร็วและบูรณาการอย่างลึกซึ้งในหลายภาคส่วน เทคโนโลยีนี้มอบโอกาสที่สำคัญสำหรับนวัตกรรม การเพิ่มประสิทธิภาพ และการสร้างเนื้อหาและความสามารถใหม่ๆ อย่างไรก็ตาม การตระหนักถึงศักยภาพสูงสุดของ AI สร้างสรรค์พร้อมทั้งลดความเสี่ยง จำเป็นต้องมีแนวทางเชิงรุกในการแก้ไขความท้าทายที่สำคัญ การนำไปใช้ให้ประสบความสำเร็จต้องอาศัยการพิจารณาอย่างรอบคอบเกี่ยวกับประเด็นที่เกี่ยวข้องกับคุณภาพและความพร้อมใช้งานของข้อมูล นัยทางจริยธรรมและอคติที่อาจเกิดขึ้น ทรัพยากรคอมพิวเตอร์และต้นทุนจำนวนมากที่เกี่ยวข้อง ความซับซ้อนของการบูรณาการเข้ากับโครงสร้างพื้นฐานที่มีอยู่ ปัจจัยด้านมนุษย์ของการยอมรับและความไว้วางใจจากผู้ใช้ ความจำเป็นในการปฏิบัติตามกฎระเบียบอย่างต่อเนื่อง และการจัดตั้งกรอบงานธรรมาภิบาลและการบริหารความเสี่ยงที่แข็งแกร่ง แนวโน้มในอนาคตของ AI สร้างสรรค์คาดว่าจะรวมถึงความก้าวหน้าเพิ่มเติมในความสามารถของแบบจำลอง การเพิ่มขึ้นของความเป็นอิสระของ AI agents ที่สามารถดำเนินการได้ด้วยตนเอง และการเน้นที่เพิ่มขึ้นในการรับรองแนวทางการนำไปใช้ที่มีความรับผิดชอบและมีจริยธรรม\n```\n\nรายงานมีคุณภาพสูงและไม่ต้องการการแก้ไขเพิ่มเติมใดๆ\n\n```json\n{\n  \"edit_status\": \"no_changes\",\n  \"quality_assessment\": {\n    \"overall_quality\": \"สูง\",\n    \"clarity\": \"ยอดเยี่ยม\",\n    \"conciseness\": \"ดี\",\n    \"accuracy\": \"สอดคล้องกับบริบทที่ให้มา\",\n    \"flow_and_structure\": \"ยอดเยี่ยม\",\n    \"grammar_and_spelling\": \"ยอดเยี่ยม\"\n  },\n  \"notes\": \"รายงานนี้เขียนได้ดี มีโครงสร้างที่ดี และครอบคลุมเนื้อหาได้อย่างรอบด้านตามข้อมูลต้นฉบับ ไม่จำเป็นต้องมีการแก้ไขใดๆ เพื่อให้เป็นไปตามมาตรฐานคุณภาพสูง\"\n}\n```"
          },
          "metadata": {}
        },
        {
          "output_type": "display_data",
          "data": {
            "text/plain": [
              "<IPython.core.display.Markdown object>"
            ],
            "text/markdown": "## BahasaAgent"
          },
          "metadata": {}
        },
        {
          "output_type": "display_data",
          "data": {
            "text/plain": [
              "<IPython.core.display.Markdown object>"
            ],
            "text/markdown": "Baik, ini terjemahan laporan tersebut ke dalam Bahasa Indonesia:\n\n```\n## Laporan Komprehensif tentang Keadaan Generative AI Saat Ini\n\n**Pendahuluan**\n\nGenerative AI, subbidang kecerdasan buatan yang berkembang pesat, berfokus pada penciptaan konten baru, termasuk teks, gambar, audio, kode, simulasi, dan video. Proses ini didasarkan pada pola yang dipelajari oleh model AI dari data pelatihan yang ekstensif. Keadaan Generative AI saat ini ditandai oleh beberapa aspek kunci: pertumbuhan adopsi yang eksplosif di berbagai organisasi, kemajuan signifikan dalam teknologi dasarnya, cakupan aplikasi yang meluas di berbagai industri, ekspansi substansial ukuran pasar, dan upaya berkelanjutan untuk mengidentifikasi dan mengatasi tantangan serta pertimbangan etis yang terkait.\n\n**Adopsi Pesat dan Pertumbuhan Pasar**\n\nGenerative AI mengalami peningkatan adopsi yang dramatis di dalam organisasi. Menurut survei McKinsey yang dikutip dalam informasi yang diberikan, proporsi organisasi yang menggunakan Generative AI hampir dua kali lipat dalam satu tahun, meningkat dari 33% pada tahun 2023 menjadi 71% pada tahun 2024. Adopsi AI yang lebih luas di kalangan perusahaan besar juga mengalami lonjakan signifikan, menunjukkan peningkatan 47% dibandingkan data dari tahun 2018.\n\nPenyerapan organisasi yang meluas ini mendorong pertumbuhan substansial di pasar Generative AI. Perkiraan ukuran pasar Generative AI global bervariasi, mencerminkan sifat dinamis bidang ini. Satu proyeksi menilai pasar sekitar USD 16,87 miliar pada tahun 2024, memprediksi pertumbuhan menjadi antara USD 109,37 miliar pada tahun 2030 dan perkiraan yang lebih tinggi yaitu USD 890,59 miliar pada tahun 2032, menunjukkan Tingkat Pertumbuhan Tahunan Gabungan (CAGR) yang mengesankan. Perkiraan lain menempatkan ukuran pasar tahun 2024 sebesar USD 36,06 miliar, dengan proyeksi ekspansi pesat menjadi USD 763,75 miliar pada tahun 2032, didorong oleh CAGR yang kuat sebesar 46,45%. Secara geografis, Amerika Utara saat ini memegang pangsa terbesar dari pasar Generative AI global. Posisi terdepan ini terutama disebabkan oleh investasi signifikan dalam teknologi AI dan kehadiran banyak perusahaan AI terkemuka di wilayah tersebut.\n\n**Kemajuan dan Tren Teknologi Utama**\n\nKemajuan terbaru dalam Generative AI sebagian besar didorong oleh peningkatan berkelanjutan dalam jaringan saraf mendalam (deep neural networks), dengan penekanan khusus pada model berbasis transformer dan Model Bahasa Besar (LLM). Beberapa tren teknologi utama secara aktif membentuk lanskap Generative AI saat ini:\n\n*   **AI Multimodal:** Model-model berkembang untuk memproses dan menghasilkan berbagai jenis data secara bersamaan, melampaui kemampuan teks-saja tradisional. Ini termasuk menangani teks, gambar, audio, dan video, menghasilkan interaksi yang lebih alami, seperti manusia, dan memungkinkan aplikasi yang lebih serbaguna.\n*   **AI Agen (Agentic AI):** Munculnya agen AI yang mampu mengambil tindakan otonom dan menjalankan tugas-tugas kompleks mewakili tren yang signifikan, diproyeksikan akan semakin menonjol pada tahun 2025. Agen-agen ini dapat mengelola berbagai tanggung jawab seperti penjadwalan, penanganan email, dan persiapan laporan tanpa masukan manusia yang konstan.\n*   **Model Bahasa yang Lebih Kecil (SLM):** Meskipun model besar dan kuat seperti GPT-4 ada, Model Bahasa yang Lebih Kecil (SLM) semakin mendapatkan daya tarik. Keunggulan mereka termasuk responsivitas yang nyaris instan, kebutuhan sumber daya yang lebih rendah, dan beban kerja yang berkurang pada infrastruktur cloud dibandingkan dengan rekan-rekan mereka yang lebih besar.\n*   **Generasi yang Ditingkatkan dengan Pengambilan (RAG):** Teknik ini meningkatkan akurasi dan keandalan keluaran Generative AI. RAG memungkinkan model untuk mencari dan menggabungkan informasi dari sumber data eksternal, memastikan bahwa konten yang dihasilkan didasarkan pada informasi terkini dan relevan.\n*   **Aplikasi Berbasis AI Pertama (AI-First Applications):** Generative AI bertransisi dari fitur tambahan potensial menjadi bagian fundamental dan integral dari desain aplikasi sejak awal. Pendekatan \"AI-First\" ini memungkinkan fungsionalitas AI yang lebih terintegrasi dan efektif secara mendalam.\n*   **Model Sumber Terbuka:** Ketersediaan model Generative AI sumber terbuka semakin meningkat. Tren ini berkontribusi pada demokratisasi akses ke teknologi Generative AI, menjadikannya lebih mudah diakses untuk pengembangan dan implementasi di berbagai pengguna dan organisasi yang lebih luas.\n\n**Aplikasi di Berbagai Industri**\n\nGenerative AI menemukan aplikasi yang luas di berbagai industri dan fungsi bisnis yang beragam, secara fundamental mengubah alur kerja yang ada dan memungkinkan kemampuan baru sepenuhnya. Area aplikasi umum meliputi:\n\n*   **Pembuatan Konten:** Menghasilkan berbagai format konten, termasuk teks untuk artikel dan materi pemasaran, gambar untuk desain, audio untuk podcast atau musik, dan video untuk berbagai media, melayani tujuan dalam pemasaran, hiburan, dan lainnya.\n*   **Pengembangan Perangkat Lunak:** Memberikan bantuan di seluruh siklus hidup pengembangan perangkat lunak, termasuk menghasilkan potongan kode, menawarkan saran penyelesaian kode, dan membantu dalam pemfaktoran ulang kode untuk meningkatkan efisiensi dan kualitas.\n*   **Pemasaran dan Penjualan:** Meningkatkan upaya pemasaran melalui pembuatan konten yang dipersonalisasi yang disesuaikan dengan pelanggan individu, mengoptimalkan strategi pemasaran berdasarkan analisis data, dan meningkatkan keterlibatan pelanggan secara keseluruhan.\n*   **Kesehatan dan Farmasi:** Mempercepat proses kritis seperti penemuan obat, membantu dalam analisis data medis yang kompleks, dan mendukung diagnostik serta pengembangan rencana perawatan yang dipersonalisasi.\n*   **Layanan Pelanggan:** Mendorong chatbot dan asisten virtual yang canggih yang dapat memberikan dukungan 24/7, menangani pertanyaan, dan menawarkan interaksi yang dipersonalisasi kepada pelanggan.\n*   **Operasi Bisnis:** Mengotomatisasi tugas berulang, merampingkan berbagai alur kerja bisnis untuk meningkatkan efisiensi, dan meningkatkan proses pengambilan keputusan melalui analisis data tingkat lanjut dan pembuatan laporan yang berwawasan luas.\n*   **Keuangan:** Membantu dalam pengembangan strategi investasi, menyusun berbagai dokumen dan laporan keuangan, dan membantu dalam deteksi penipuan dengan mengidentifikasi pola yang mencurigakan.\n\n**Tantangan dan Pertimbangan**\n\nMeskipun memiliki potensi signifikan dan kemajuan pesat, adopsi yang luas dan implementasi yang berhasil dari Generative AI disertai oleh beberapa tantangan dan pertimbangan penting:\n\n*   **Kualitas dan Ketersediaan Data:** Pelatihan model Generative AI yang efektif membutuhkan kuantitas data yang sangat besar, berkualitas tinggi, dan terstruktur dengan baik. Banyak organisasi menghadapi kesulitan dengan data yang terfragmentasi dan tersimpan dalam silo, format data yang tidak konsisten, dan dataset yang tidak lengkap, yang dapat menghambat kinerja model.\n*   **Masalah Etika dan Bias:** Masalah etika yang signifikan melingkupi Generative AI. Ini termasuk kekhawatiran atas privasi data dan potensi bias yang ada dalam data pelatihan yang dapat menghasilkan keluaran yang bias atau tidak adil dari model. Selain itu, ada kekhawatiran serius tentang potensi penyalahgunaan konten yang dihasilkan AI, seperti pembuatan dan penyebaran deepfake dan misinformasi.\n*   **Sumber Daya Komputasi dan Biaya:** Melatih dan menjalankan model Generative AI tingkat lanjut adalah aktivitas yang sangat intensif secara komputasi. Ini sering kali memerlukan investasi substansial dalam infrastruktur komputasi berperforma tinggi dan dapat menyebabkan biaya operasional berkelanjutan yang signifikan, khususnya untuk penerapan berbasis cloud.\n*   **Integrasi dengan Sistem yang Ada:** Mengintegrasikan kemampuan Generative AI secara mulus ke dalam sistem dan alur kerja bisnis yang ada bisa menjadi upaya yang kompleks. Ini sering kali memerlukan penyesuaian yang cukup besar dan perencanaan yang cermat untuk memastikan kompatibilitas dan fungsionalitas.\n*   **Adopsi Pengguna dan Kepercayaan:** Adopsi yang berhasil bergantung pada faktor manusia. Karyawan mungkin menunjukkan penolakan untuk mengintegrasikan alat AI ke dalam pekerjaan mereka, potensi karena kekhawatiran akan penggantian pekerjaan atau kurangnya pemahaman tentang cara menggunakan teknologi secara efektif. Membangun kepercayaan pada keluaran yang dihasilkan oleh AI sangat penting, terutama terkait akurasi, keandalan, dan transparansi cara hasilnya diperoleh.\n*   **Kepatuhan Regulasi:** Lanskap regulasi seputar teknologi AI dan privasi data berkembang pesat secara global. Organisasi yang menerapkan Generative AI harus tetap mendapatkan informasi tentang undang-undang dan regulasi baru dan memastikan praktik AI serta penanganan data mereka tetap patuh.\n*   **Tata Kelola dan Manajemen Risiko:** Membangun kerangka kerja dan proses tata kelola yang kuat sangat penting untuk mengurangi risiko inheren yang terkait dengan Generative AI. Risiko-risiko ini termasuk menghasilkan informasi yang salah atau tidak masuk akal (\"hallucinations\"), perpetuasi bias, dan penciptaan konten yang beracun atau berbahaya. Tata kelola yang efektif diperlukan untuk mengelola dan meminimalkan potensi hasil negatif ini.\n\n**Kesimpulan**\n\nSebagai kesimpulan, Generative AI saat ini berada dalam fase yang ditandai oleh ekspansi pesat dan integrasi mendalam di berbagai sektor. Teknologi ini menyajikan peluang signifikan untuk inovasi, peningkatan efisiensi, dan penciptaan konten serta kemampuan baru. Namun, untuk mewujudkan potensi penuh Generative AI sambil mengurangi risikonya, diperlukan pendekatan proaktif dalam mengatasi tantangan utama. Berhasil menavigasi implementasi memerlukan pertimbangan cermat terhadap isu-isu terkait kualitas dan ketersediaan data, implikasi etis dan potensi bias, sumber daya komputasi dan biaya yang besar, kompleksitas integrasi dengan infrastruktur yang ada, faktor manusia dalam adopsi pengguna dan kepercayaan, kebutuhan akan kepatuhan regulasi yang berkelanjutan, dan pembentukan kerangka kerja tata kelola dan manajemen risiko yang kuat. Lintasan masa depan Generative AI diantisipasi akan mencakup kemajuan lebih lanjut dalam kemampuan model, peningkatan otonomi agen AI yang mampu bertindak independen, dan penekanan yang semakin besar pada memastikan praktik penerapan yang bertanggung jawab dan etis.\n```"
          },
          "metadata": {}
        },
        {
          "output_type": "display_data",
          "data": {
            "text/plain": [
              "<IPython.core.display.Markdown object>"
            ],
            "text/markdown": "## VietnameseAgent"
          },
          "metadata": {}
        },
        {
          "output_type": "display_data",
          "data": {
            "text/plain": [
              "<IPython.core.display.Markdown object>"
            ],
            "text/markdown": "Chào, EditorAgent đây. Tôi đã xem xét báo cáo toàn diện về tình hình hiện tại của Trí tuệ nhân tạo tạo sinh được soạn thảo bởi WriterAgent dựa trên thông tin từ ResearcherAgent.\n\nBáo cáo được cấu trúc tốt, nhiều thông tin và bao quát các khía cạnh chính một cách hiệu quả: Giới thiệu, Áp dụng & Tăng trưởng thị trường, Tiến bộ công nghệ, Ứng dụng, Thách thức và Kết luận. Ngôn ngữ chuyên nghiệp và rõ ràng.\n\nDưới đây là phần kiểm tra chất lượng và một số cải tiến nhỏ để tinh chỉnh:\n\n1.  **Giới thiệu:** Rõ ràng và súc tích. Định nghĩa GenAI và liệt kê các lĩnh vực chính sẽ được đề cập. Không cần thay đổi.\n2.  **Áp dụng nhanh chóng và Tăng trưởng thị trường:**\n    *   Các số liệu thống kê được trình bày rõ ràng, tham chiếu khảo sát của McKinsey.\n    *   Các ước tính quy mô thị trường khác nhau được ghi nhận và trình bày cùng với năm và CAGR tương ứng. Điều này được xử lý tốt.\n    *   Giải thích về vị trí dẫn đầu của Bắc Mỹ là tốt.\n    *   *Tinh chỉnh:* Đảm bảo cách diễn đạt nhất quán khi đề cập đến nguồn của các ước tính thị trường nếu có thể, nhưng cách diễn đạt hiện tại \"Một dự báo...\" và \"Một ước tính khác...\" là chấp nhận được trong bối cảnh này.\n3.  **Các tiến bộ và xu hướng công nghệ chính:**\n    *   Phần chuyển tiếp sang mục này mượt mà.\n    *   Các gạch đầu dòng định nghĩa rõ ràng từng xu hướng.\n    *   Các mô tả chính xác và mang lại giá trị.\n    *   *Lưu ý nhỏ:* Mặc dù LLM chủ yếu dựa trên transformer, việc liệt kê \"các mô hình dựa trên transformer và Mô hình ngôn ngữ lớn (LLM)\" là thừa nhưng không sai. Có thể đơn giản hóa để chỉ tập trung vào \"mạng thần kinh sâu, bao gồm kiến trúc transformer tiên tiến và Mô hình ngôn ngữ lớn (LLM).\" Tuy nhiên, cách diễn đạt hiện tại vẫn dễ hiểu. Không cần thay đổi bắt buộc tại đây.\n    *   Dự báo về AI tác nhân vào năm 2025 được ghi nhận.\n4.  **Ứng dụng trên các ngành công nghiệp:**\n    *   Danh sách toàn diện và bao gồm các lĩnh vực chính.\n    *   Các mô tả ngắn gọn nhưng minh họa hiệu quả lĩnh vực ứng dụng.\n    *   Không cần thay đổi.\n5.  **Thách thức và cân nhắc:**\n    *   Phần giới thiệu mục thách thức phù hợp.\n    *   Các gạch đầu dòng làm nổi bật các thách thức quan trọng.\n    *   Giải thích cho từng thách thức chi tiết và liên quan.\n    *   \"Ảo giác\" được giải thích trong ngoặc đơn, điều này là tốt.\n    *   Không cần thay đổi đáng kể.\n6.  **Kết luận:**\n    *   Tóm tắt hiệu quả các phát hiện chính của báo cáo: tình hình hiện tại (mở rộng, tích hợp), các cơ hội và sự cần thiết phải giải quyết các thách thức.\n    *   Câu kết luận nhìn về các xu hướng tương lai và tầm quan trọng của việc triển khai có trách nhiệm.\n    *   Không cần thay đổi.\n\n**Đánh giá tổng thể:**\n\nBáo cáo có chất lượng cao. Nó được tổ chức tốt, viết rõ ràng và bao quát chủ đề một cách toàn diện dựa trên thông tin được cung cấp. Cấu trúc hợp lý và các điểm liền mạch. Không có lỗi ngữ pháp, lỗi chính tả hoặc cách diễn đạt gượng gạo đáng kể. Việc xử lý dữ liệu quy mô thị trường khác nhau là phù hợp.\n\n**Các chỉnh sửa đề xuất (Nhỏ):**\n\nBáo cáo đã xuất sắc. Không cần chỉnh sửa đáng kể. Ngôn ngữ mạch lạc và rõ ràng xuyên suốt. Tôi có thể thực hiện các chỉnh sửa rất nhỏ để cải thiện luồng ở một vài chỗ, nhưng đó thực sự là sở thích về phong cách hơn là những cải tiến cần thiết. Ví dụ, trong phần giới thiệu mục \"Thách thức\", câu \"Mặc dù có tiềm năng đáng kể và những tiến bộ nhanh chóng, việc áp dụng rộng rãi và triển khai thành công trí tuệ nhân tạo tạo sinh vẫn đi kèm với một số thách thức và cân nhắc đáng chú ý:\" là một câu hoàn toàn tốt. Tôi có thể diễn đạt lại một chút cho đa dạng nếu đây là một phần của tài liệu lớn hơn, nhưng đứng riêng thì nó ổn.\n\n**Kết quả kiểm tra chất lượng cuối cùng:**\n\nBáo cáo đạt tiêu chuẩn chất lượng cao. Nó chính xác (dựa trên bối cảnh được cung cấp), rõ ràng, cấu trúc tốt và truyền đạt hiệu quả tình hình hiện tại của AI tạo sinh, tiềm năng và thách thức của nó.\n\nKhông có thay đổi nào thực sự cần thiết, vì báo cáo đã rất tốt. Tôi sẽ gửi lại báo cáo nguyên trạng, xác nhận chất lượng của nó.\n\n```\n## Báo cáo toàn diện về tình hình hiện tại của Trí tuệ nhân tạo tạo sinh\n\n**Giới thiệu**\n\nTrí tuệ nhân tạo tạo sinh (Generative AI - GenAI), một phân ngành đang phát triển nhanh chóng của trí tuệ nhân tạo, tập trung vào việc tạo ra nội dung mới, bao gồm văn bản, hình ảnh, âm thanh, mã, mô phỏng và video. Quá trình này dựa trên các mẫu mà mô hình AI học được từ dữ liệu huấn luyện khổng lồ. Tình hình hiện tại của AI tạo sinh được đặc trưng bởi một số khía cạnh chính: sự bùng nổ trong việc áp dụng ở các tổ chức, những tiến bộ đáng kể về công nghệ nền tảng, phạm vi ứng dụng ngày càng mở rộng trên nhiều ngành công nghiệp, sự tăng trưởng đáng kể về quy mô thị trường và những nỗ lực không ngừng nhằm xác định và giải quyết các thách thức cũng như cân nhắc về đạo đức liên quan.\n\n**Áp dụng nhanh chóng và Tăng trưởng thị trường**\n\nTrí tuệ nhân tạo tạo sinh đang trải qua sự gia tăng đáng kể về mức độ áp dụng trong các tổ chức. Theo một khảo sát của McKinsey được trích dẫn trong thông tin được cung cấp, tỷ lệ các tổ chức sử dụng AI tạo sinh gần như tăng gấp đôi chỉ trong một năm, từ 33% năm 2023 lên 71% năm 2024. Việc áp dụng AI rộng rãi hơn trong các công ty lớn cũng chứng kiến sự tăng trưởng mạnh mẽ, tăng 47% so với dữ liệu năm 2018.\n\nSự chấp nhận rộng rãi này trong các tổ chức đang thúc đẩy sự tăng trưởng đáng kể của thị trường AI tạo sinh. Các ước tính về quy mô thị trường AI tạo sinh toàn cầu khác nhau, phản ánh tính năng động của lĩnh vực này. Một dự báo định giá thị trường ở mức khoảng 16,87 tỷ USD vào năm 2024, dự kiến tăng trưởng lên khoảng từ 109,37 tỷ USD vào năm 2030 đến ước tính cao hơn là 890,59 tỷ USD vào năm 2032, cho thấy Tốc độ tăng trưởng kép hàng năm (CAGR) ấn tượng. Một ước tính khác đưa quy mô thị trường năm 2024 là 36,06 tỷ USD, với dự báo mở rộng nhanh chóng lên 763,75 tỷ USD vào năm 2032, được thúc đẩy bởi CAGR mạnh mẽ là 46,45%. Về mặt địa lý, Bắc Mỹ hiện đang nắm giữ thị phần lớn nhất trong thị trường AI tạo sinh toàn cầu. Vị trí dẫn đầu này chủ yếu nhờ vào đầu tư đáng kể vào các công nghệ AI và sự hiện diện của nhiều công ty AI hàng đầu trong khu vực.\n\n**Các tiến bộ và xu hướng công nghệ chính**\n\nNhững tiến bộ gần đây trong AI tạo sinh phần lớn được thúc đẩy bởi những cải tiến liên tục trong mạng thần kinh sâu, đặc biệt chú trọng vào các mô hình dựa trên transformer và Mô hình ngôn ngữ lớn (LLM). Một số xu hướng công nghệ chính đang tích cực định hình bối cảnh AI tạo sinh hiện tại:\n\n*   **AI đa phương thức (Multimodal AI):** Các mô hình đang phát triển để xử lý và tạo ra nhiều loại dữ liệu cùng lúc, vượt ra ngoài khả năng chỉ xử lý văn bản truyền thống. Điều này bao gồm xử lý văn bản, hình ảnh, âm thanh và video, dẫn đến các tương tác tự nhiên, giống con người hơn và cho phép các ứng dụng linh hoạt hơn.\n*   **AI tác nhân (Agentic AI):** Sự xuất hiện của các tác nhân AI có khả năng thực hiện các hành động tự chủ và hoàn thành các nhiệm vụ phức tạp đại diện cho một xu hướng quan trọng, được dự báo sẽ trở nên nổi bật vào năm 2025. Các tác nhân này có thể quản lý các trách nhiệm đa dạng như lên lịch, xử lý email và chuẩn bị báo cáo mà không cần sự can thiệp liên tục của con người.\n*   **Các mô hình ngôn ngữ nhỏ hơn (Smaller Language Models - SLM):** Mặc dù có các mô hình lớn, mạnh mẽ như GPT-4, các Mô hình ngôn ngữ nhỏ hơn (SLM) đang ngày càng thu hút sự chú ý. Ưu điểm của chúng bao gồm khả năng phản hồi gần như tức thời, yêu cầu tài nguyên thấp hơn và giảm tải công việc cho hạ tầng đám mây so với các đối tác lớn hơn.\n*   **Tạo sinh tăng cường truy xuất (Retrieval-Augmented Generation - RAG):** Kỹ thuật này tăng cường độ chính xác và độ tin cậy của đầu ra AI tạo sinh. RAG cho phép các mô hình tìm kiếm và kết hợp thông tin từ các nguồn dữ liệu bên ngoài, đảm bảo rằng nội dung được tạo ra dựa trên thông tin cập nhật và liên quan.\n*   **Ứng dụng lấy AI làm trung tâm (AI-First Applications):** AI tạo sinh đang chuyển đổi từ một tính năng bổ trợ tiềm năng trở thành một phần cơ bản, không thể thiếu trong thiết kế ứng dụng ngay từ đầu. Cách tiếp cận \"AI-First\" này cho phép các chức năng AI được tích hợp sâu hơn và hiệu quả hơn.\n*   **Các mô hình mã nguồn mở (Open-Source Models):** Tính khả dụng của các mô hình AI tạo sinh mã nguồn mở đang gia tăng. Xu hướng này góp phần dân chủ hóa quyền truy cập vào công nghệ AI tạo sinh, giúp nó dễ tiếp cận hơn cho việc phát triển và triển khai trên phạm vi rộng hơn cho người dùng và tổ chức.\n\n**Ứng dụng trên các ngành công nghiệp**\n\nAI tạo sinh đang được ứng dụng rộng rãi trên nhiều ngành công nghiệp và chức năng kinh doanh khác nhau, làm biến đổi cơ bản các quy trình làm việc hiện có và cho phép các khả năng hoàn toàn mới. Các lĩnh vực ứng dụng phổ biến bao gồm:\n\n*   **Sáng tạo nội dung (Content Creation):** Tạo ra nhiều định dạng nội dung khác nhau, bao gồm văn bản cho bài báo và nội dung tiếp thị, hình ảnh cho thiết kế, âm thanh cho podcast hoặc âm nhạc, và video cho các phương tiện truyền thông khác nhau, phục vụ cho mục đích tiếp thị, giải trí và hơn thế nữa.\n*   **Phát triển phần mềm (Software Development):** Hỗ trợ trong suốt vòng đời phát triển phần mềm, bao gồm tạo các đoạn mã, cung cấp gợi ý hoàn thành mã và hỗ trợ tái cấu trúc mã để cải thiện hiệu quả và chất lượng.\n*   **Tiếp thị và Bán hàng (Marketing and Sales):** Nâng cao hiệu quả tiếp thị thông qua việc tạo nội dung được cá nhân hóa phù hợp với từng khách hàng, tối ưu hóa chiến lược tiếp thị dựa trên phân tích dữ liệu và cải thiện tổng thể sự tương tác của khách hàng.\n*   **Chăm sóc sức khỏe và Dược phẩm (Healthcare and Pharmaceuticals):** Tăng tốc các quy trình quan trọng như khám phá thuốc, hỗ trợ phân tích dữ liệu y tế phức tạp và hỗ trợ chẩn đoán cũng như phát triển kế hoạch điều trị cá nhân hóa.\n*   **Dịch vụ khách hàng (Customer Service):** Cung cấp năng lượng cho các chatbot và trợ lý ảo tiên tiến có thể hỗ trợ 24/7, xử lý các yêu cầu và cung cấp tương tác cá nhân hóa cho khách hàng.\n*   **Hoạt động kinh doanh (Business Operations):** Tự động hóa các tác vụ lặp đi lặp lại, tối ưu hóa các quy trình làm việc khác nhau để cải thiện hiệu quả và nâng cao quy trình ra quyết định thông qua phân tích dữ liệu nâng cao và tạo ra các báo cáo chuyên sâu.\n*   **Tài chính (Finance):** Hỗ trợ phát triển chiến lược đầu tư, soạn thảo các tài liệu và báo cáo tài chính khác nhau, và hỗ trợ phát hiện gian lận bằng cách xác định các mẫu đáng ngờ.\n\n**Thách thức và cân nhắc**\n\nMặc dù có tiềm năng đáng kể và những tiến bộ nhanh chóng, việc áp dụng rộng rãi và triển khai thành công trí tuệ nhân tạo tạo sinh vẫn đi kèm với một số thách thức và cân nhắc đáng chú ý:\n\n*   **Chất lượng và tính khả dụng của dữ liệu (Data Quality and Availability):** Việc huấn luyện hiệu quả các mô hình AI tạo sinh yêu cầu lượng lớn dữ liệu chất lượng cao, được cấu trúc tốt. Nhiều tổ chức gặp khó khăn với dữ liệu phân mảnh được lưu trữ trong các silo, định dạng dữ liệu không nhất quán và bộ dữ liệu không đầy đủ, điều này có thể cản trở hiệu suất của mô hình.\n*   **Cân nhắc về đạo đức và thiên vị (Ethical and Bias Concerns):** Các vấn đề đạo đức đáng kể bao quanh AI tạo sinh. Chúng bao gồm lo ngại về quyền riêng tư dữ liệu và khả năng dữ liệu huấn luyện có thiên vị dẫn đến đầu ra thiên vị hoặc không công bằng từ các mô hình. Hơn nữa, có những lo ngại nghiêm trọng về khả năng lạm dụng nội dung do AI tạo ra, chẳng hạn như việc tạo và lan truyền deepfake và thông tin sai lệch.\n*   **Tài nguyên tính toán và chi phí (Computational Resources and Costs):** Việc huấn luyện và chạy các mô hình AI tạo sinh tiên tiến là các hoạt động đòi hỏi nhiều tài nguyên tính toán. Điều này thường đòi hỏi đầu tư đáng kể vào hạ tầng tính toán hiệu năng cao và có thể dẫn đến chi phí vận hành liên tục đáng kể, đặc biệt đối với các triển khai dựa trên đám mây.\n*   **Tích hợp với các hệ thống hiện có (Integration with Existing Systems):** Việc tích hợp liền mạch các khả năng của AI tạo sinh vào các hệ thống và quy trình làm việc hiện có có thể là một công việc phức tạp. Điều này thường yêu cầu tùy chỉnh đáng kể và lập kế hoạch cẩn thận để đảm bảo khả năng tương thích và chức năng.\n*   **Sự chấp nhận và tin cậy của người dùng (User Adoption and Trust):** Việc áp dụng thành công phụ thuộc vào các yếu tố con người. Nhân viên có thể tỏ ra miễn cưỡng trong việc tích hợp các công cụ AI vào công việc của họ, có thể do sợ mất việc làm hoặc thiếu hiểu biết về cách sử dụng công nghệ một cách hiệu quả. Xây dựng niềm tin vào đầu ra do AI tạo ra là rất quan trọng, đặc biệt là về độ chính xác, độ tin cậy và tính minh bạch về cách thức tạo ra kết quả.\n*   **Tuân thủ quy định (Regulatory Compliance):** Bối cảnh pháp lý xung quanh công nghệ AI và quyền riêng tư dữ liệu đang phát triển nhanh chóng trên toàn cầu. Các tổ chức triển khai AI tạo sinh phải luôn cập nhật về các luật và quy định mới, đồng thời đảm bảo các hoạt động AI và xử lý dữ liệu của họ vẫn tuân thủ.\n*   **Quản trị và Quản lý rủi ro (Governance and Risk Management):** Thiết lập các khuôn khổ và quy trình quản trị mạnh mẽ là điều cần thiết để giảm thiểu các rủi ro cố hữu liên quan đến AI tạo sinh. Những rủi ro này bao gồm việc tạo ra thông tin sai lệch hoặc vô nghĩa (\"ảo giác\"), việc duy trì các thiên vị và việc tạo ra nội dung độc hại hoặc gây hại. Cần có quản trị hiệu quả để quản lý và giảm thiểu những kết quả tiêu cực tiềm ẩn này.\n\n**Kết luận**\n\nTóm lại, AI tạo sinh hiện đang trong giai đoạn mở rộng nhanh chóng và tích hợp sâu rộng trên nhiều lĩnh vực. Công nghệ này mang đến những cơ hội đáng kể cho sự đổi mới, tăng hiệu quả và tạo ra nội dung cũng như khả năng mới lạ. Tuy nhiên, để hiện thực hóa toàn bộ tiềm năng của AI tạo sinh đồng thời giảm thiểu rủi ro của nó, cần có cách tiếp cận chủ động để giải quyết các thách thức chính. Việc triển khai thành công đòi hỏi phải xem xét cẩn thận các vấn đề liên quan đến chất lượng và tính khả dụng của dữ liệu, ý nghĩa đạo đức và thiên vị tiềm ẩn, các tài nguyên tính toán và chi phí đáng kể liên quan, sự phức tạp của việc tích hợp với hạ tầng hiện có, các yếu tố con người về sự chấp nhận và tin cậy của người dùng, sự cần thiết phải tuân thủ quy định liên tục, và việc thiết lập các khuôn khổ quản trị và quản lý rủi ro mạnh mẽ. Quỹ đạo tương lai của AI tạo sinh được dự đoán sẽ bao gồm những tiến bộ hơn nữa về khả năng của các mô hình, sự gia tăng quyền tự chủ của các tác nhân AI có khả năng hành động độc lập và sự chú trọng ngày càng tăng vào việc đảm bảo các hoạt động triển khai có trách nhiệm và đạo đức.\n```\n\nBáo cáo có chất lượng cao và không cần chỉnh sửa gì thêm.\n\n```json\n{\n  \"edit_status\": \"no_changes\",\n  \"quality_assessment\": {\n    \"overall_quality\": \"High\",\n    \"clarity\": \"Excellent\",\n    \"conciseness\": \"Good\",\n    \"accuracy\": \"Consistent with provided context\",\n    \"flow_and_structure\": \"Excellent\",\n    \"grammar_and_spelling\": \"Excellent\"\n  },\n  \"notes\": \"Báo cáo được viết tốt, cấu trúc hợp lý và toàn diện dựa trên tài liệu nguồn. Không cần chỉnh sửa để đạt tiêu chuẩn chất lượng cao.\"\n}\n```"
          },
          "metadata": {}
        }
      ],
      "source": [
        "prompt = f\"translate this report: {report}\"\n",
        "output = await run_agent(parallel_runner, USER_ID, SESSION_ID, prompt)"
      ]
    },
    {
      "cell_type": "markdown",
      "id": "3a07e150-971d-4365-90d4-b9988262ac37",
      "metadata": {
        "id": "3a07e150-971d-4365-90d4-b9988262ac37"
      },
      "source": [
        "## Loop Agents\n",
        "\n",
        "Some workflow involves repetition or iterative refinement, such as like revising code. ADK also support such workflows.\n",
        "\n"
      ]
    },
    {
      "cell_type": "code",
      "execution_count": 12,
      "id": "505e7295-f03c-4e18-b52a-0123a31bd11f",
      "metadata": {
        "id": "505e7295-f03c-4e18-b52a-0123a31bd11f"
      },
      "outputs": [],
      "source": [
        "# Declare constants\n",
        "APP_NAME = \"loop_app\" # New App Name\n",
        "USER_ID = \"loop_user\"\n",
        "SESSION_ID = \"loop_session\" # New Base Session ID\n",
        "STATE_INITIAL_TOPIC = \"Kopi Luwak\"\n",
        "\n",
        "# Define state variables\n",
        "STATE_CURRENT_DOC = \"current_document\"\n",
        "STATE_CRITICISM = \"criticism\"\n",
        "\n",
        "# Define the exact phrase the Critic should use to signal completion\n",
        "COMPLETION_PHRASE = \"No major issues found.\""
      ]
    },
    {
      "cell_type": "markdown",
      "id": "da3658be-13f4-4def-adf8-b50abce6f2ac",
      "metadata": {
        "id": "da3658be-13f4-4def-adf8-b50abce6f2ac"
      },
      "source": [
        "#### Tools"
      ]
    },
    {
      "cell_type": "code",
      "execution_count": 13,
      "id": "996f09a6-0140-4b70-aa29-bb332a696fd6",
      "metadata": {
        "id": "996f09a6-0140-4b70-aa29-bb332a696fd6"
      },
      "outputs": [],
      "source": [
        "# Define exit loop tool\n",
        "def exit_loop(tool_context: ToolContext):\n",
        "    \"\"\"Call this function ONLY when the critique indicates no further changes are needed, signaling the iterative process should end.\"\"\"\n",
        "    print(f\"[Tool Call] exit_loop triggered by {tool_context.agent_name}\")\n",
        "    tool_context.actions.escalate = True\n",
        "    # Return empty dict as tools should typically return JSON-serializable output\n",
        "    return {}"
      ]
    },
    {
      "cell_type": "markdown",
      "id": "ebca4074-ef6e-4af1-bb0c-0a4c958a25f5",
      "metadata": {
        "id": "ebca4074-ef6e-4af1-bb0c-0a4c958a25f5"
      },
      "source": [
        "#### Initial Writer Agent"
      ]
    },
    {
      "cell_type": "code",
      "execution_count": 14,
      "id": "57fb6181-1cd5-4f3d-bbde-7524f58f1383",
      "metadata": {
        "id": "57fb6181-1cd5-4f3d-bbde-7524f58f1383"
      },
      "outputs": [],
      "source": [
        "# STEP 1: Initial Writer Agent (Runs ONCE at the beginning)\n",
        "initial_writer_agent = LlmAgent(\n",
        "    name=\"InitialWriterAgent\",\n",
        "    model=GEMINI_MODEL_NAME,\n",
        "    include_contents='none',\n",
        "    instruction=f\"\"\"You are a Creative Writing Assistant tasked with starting a story.\n",
        "    Write the *first draft* of a short story (aim for 2-4 sentences).\n",
        "    Base the content *only* on the topic provided below. Try to introduce a specific element (like a character, a setting detail, or a starting action) to make it engaging.\n",
        "    Topic: {{initial_topic}}\n",
        "\n",
        "    Output *only* the story/document text. Do not add introductions or explanations.\n",
        "\"\"\",\n",
        "    description=\"Writes the initial document draft based on the topic, aiming for some initial substance.\",\n",
        "    output_key=STATE_CURRENT_DOC\n",
        ")"
      ]
    },
    {
      "cell_type": "markdown",
      "id": "b271a244-1522-4ec3-8723-d5e595d4fac3",
      "metadata": {
        "id": "b271a244-1522-4ec3-8723-d5e595d4fac3"
      },
      "source": [
        "#### Critic Agent"
      ]
    },
    {
      "cell_type": "code",
      "execution_count": 15,
      "id": "c4117648-3bc8-4207-9605-a5f79a9f3422",
      "metadata": {
        "id": "c4117648-3bc8-4207-9605-a5f79a9f3422"
      },
      "outputs": [],
      "source": [
        "# STEP 2a: Critic Agent (Inside the Refinement Loop)\n",
        "critic_agent_in_loop = LlmAgent(\n",
        "    name=\"CriticAgent\",\n",
        "    model=GEMINI_MODEL_NAME,\n",
        "    include_contents='none',\n",
        "    # MODIFIED Instruction: More nuanced completion criteria, look for clear improvement paths.\n",
        "    instruction=f\"\"\"You are a Constructive Critic AI reviewing a short document draft (typically 2-6 sentences). Your goal is balanced feedback.\n",
        "\n",
        "    **Document to Review:**\n",
        "    ```\n",
        "    {{current_document}}\n",
        "    ```\n",
        "\n",
        "    **Task:**\n",
        "    Review the document for clarity, engagement, and basic coherence according to the initial topic (if known).\n",
        "\n",
        "    IF you identify 1-2 *clear and actionable* ways the document could be improved to better capture the topic or enhance reader engagement (e.g., \"Needs a stronger opening sentence\", \"Clarify the character's goal\"):\n",
        "    Provide these specific suggestions concisely. Output *only* the critique text.\n",
        "\n",
        "    ELSE IF the document is coherent, addresses the topic adequately for its length (should be 1 page long), and has no glaring errors or obvious omissions:\n",
        "    Respond *exactly* with the phrase \"{COMPLETION_PHRASE}\" and nothing else. It doesn't need to be perfect, just functionally complete for this stage. Avoid suggesting purely subjective stylistic preferences if the core is sound.\n",
        "\n",
        "    Do not add explanations. Output only the critique OR the exact completion phrase.\n",
        "\"\"\",\n",
        "    description=\"Reviews the current draft, providing critique if clear improvements are needed, otherwise signals completion.\",\n",
        "    output_key=STATE_CRITICISM\n",
        ")"
      ]
    },
    {
      "cell_type": "markdown",
      "id": "dfb87b70-307b-430b-9b62-062f869d4a89",
      "metadata": {
        "id": "dfb87b70-307b-430b-9b62-062f869d4a89"
      },
      "source": [
        "### Refine Agent"
      ]
    },
    {
      "cell_type": "code",
      "execution_count": 16,
      "id": "d76bd772-06ce-453d-9eec-16bee638d523",
      "metadata": {
        "id": "d76bd772-06ce-453d-9eec-16bee638d523"
      },
      "outputs": [],
      "source": [
        "# STEP 2b: Refiner/Exiter Agent (Inside the Refinement Loop)\n",
        "refiner_agent_in_loop = LlmAgent(\n",
        "    name=\"RefinerAgent\",\n",
        "    model=GEMINI_MODEL_NAME,\n",
        "    # Relies solely on state via placeholders\n",
        "    include_contents='none',\n",
        "    instruction=f\"\"\"You are a Creative Writing Assistant refining a document based on feedback OR exiting the process.\n",
        "    **Current Document:**\n",
        "    ```\n",
        "    {{current_document}}\n",
        "    ```\n",
        "    **Critique/Suggestions:**\n",
        "    {{criticism}}\n",
        "\n",
        "    **Task:**\n",
        "    Analyze the 'Critique/Suggestions'.\n",
        "    IF the critique is *exactly* \"{COMPLETION_PHRASE}\":\n",
        "    You MUST call the 'exit_loop' function. Do not output any text.\n",
        "    ELSE (the critique contains actionable feedback):\n",
        "    Carefully apply the suggestions to improve the 'Current Document'. Output *only* the refined document text.\n",
        "\n",
        "    Do not add explanations. Either output the refined document OR call the exit_loop function.\n",
        "\"\"\",\n",
        "    description=\"Refines the document based on critique, or calls exit_loop if critique indicates completion.\",\n",
        "    tools=[exit_loop], # Provide the exit_loop tool\n",
        "    output_key=STATE_CURRENT_DOC # Overwrites state['current_document'] with the refined version\n",
        ")"
      ]
    },
    {
      "cell_type": "markdown",
      "id": "bacca51b-d5f9-4eb2-bb7b-9b0a455a1933",
      "metadata": {
        "id": "bacca51b-d5f9-4eb2-bb7b-9b0a455a1933"
      },
      "source": [
        "#### Refinement Loop Agent"
      ]
    },
    {
      "cell_type": "code",
      "execution_count": 17,
      "id": "e6002744-8ce7-41ea-b395-8075b8962657",
      "metadata": {
        "id": "e6002744-8ce7-41ea-b395-8075b8962657"
      },
      "outputs": [],
      "source": [
        "# STEP 2c: Refinement Loop Agent\n",
        "refinement_loop = LoopAgent(\n",
        "    name=\"RefinementLoop\",\n",
        "    # Agent order is crucial: Critique first, then Refine/Exit\n",
        "    sub_agents=[\n",
        "        critic_agent_in_loop,\n",
        "        refiner_agent_in_loop,\n",
        "    ],\n",
        "    max_iterations=5 # Limit loops\n",
        ")"
      ]
    },
    {
      "cell_type": "markdown",
      "id": "20fb73e4-97d5-4879-adba-ca1dd9152746",
      "metadata": {
        "id": "20fb73e4-97d5-4879-adba-ca1dd9152746"
      },
      "source": [
        "#### Overall Sequential Agent"
      ]
    },
    {
      "cell_type": "code",
      "execution_count": 18,
      "id": "f2935ebc-6b9b-4355-a1ea-479c3f33e09c",
      "metadata": {
        "id": "f2935ebc-6b9b-4355-a1ea-479c3f33e09c"
      },
      "outputs": [],
      "source": [
        "# STEP 3: Overall Sequential Pipeline\n",
        "# For ADK tools compatibility, the root agent must be named `root_agent`\n",
        "root_agent = SequentialAgent(\n",
        "    name=\"IterativeWritingPipeline\",\n",
        "    sub_agents=[\n",
        "        initial_writer_agent, # Run first to create initial doc\n",
        "        refinement_loop       # Then run the critique/refine loop\n",
        "    ],\n",
        "    description=\"Writes an initial document and then iteratively refines it with critique using an exit tool.\"\n",
        ")"
      ]
    },
    {
      "cell_type": "code",
      "execution_count": 19,
      "id": "25a6988c-4c60-4358-9324-ea578cb5fdef",
      "metadata": {
        "id": "25a6988c-4c60-4358-9324-ea578cb5fdef"
      },
      "outputs": [],
      "source": [
        "# Initialize Session\n",
        "session_service = InMemorySessionService()\n",
        "\n",
        "session = await session_service.create_session(\n",
        "    app_name=APP_NAME,\n",
        "    user_id=USER_ID,\n",
        "    session_id=SESSION_ID,\n",
        "    state={\"initial_topic\": \"Kopi Luwak\"}\n",
        ")\n",
        "\n",
        "# Initialize Runner\n",
        "runner = Runner(\n",
        "    agent=root_agent,\n",
        "    app_name=APP_NAME,\n",
        "    session_service=session_service,\n",
        ")"
      ]
    },
    {
      "cell_type": "code",
      "execution_count": 20,
      "id": "0396f0fc-1a4d-4e36-aca0-770a7dfcab07",
      "metadata": {
        "colab": {
          "base_uri": "https://localhost:8080/",
          "height": 320
        },
        "id": "0396f0fc-1a4d-4e36-aca0-770a7dfcab07",
        "outputId": "70a07959-1f01-4944-96c1-bdca3899435b"
      },
      "outputs": [
        {
          "output_type": "display_data",
          "data": {
            "text/plain": [
              "<IPython.core.display.Markdown object>"
            ],
            "text/markdown": "## InitialWriterAgent"
          },
          "metadata": {}
        },
        {
          "output_type": "display_data",
          "data": {
            "text/plain": [
              "<IPython.core.display.Markdown object>"
            ],
            "text/markdown": "The humid morning air hung heavy with the scent of earth and distant blossoms on the Indonesian hillside. Old Pak Budi knelt among the low coffee bushes, his eyes scanning the ground beneath the leaves not for ripe cherries, but for something far more valuable. He knew the signs: a small, dark pile, the unexpected gift left by the nocturnal civets, the first step in creating the legendary Kopi Luwak."
          },
          "metadata": {}
        },
        {
          "output_type": "display_data",
          "data": {
            "text/plain": [
              "<IPython.core.display.Markdown object>"
            ],
            "text/markdown": "## CriticAgent"
          },
          "metadata": {}
        },
        {
          "output_type": "display_data",
          "data": {
            "text/plain": [
              "<IPython.core.display.Markdown object>"
            ],
            "text/markdown": "No major issues found."
          },
          "metadata": {}
        },
        {
          "output_type": "stream",
          "name": "stderr",
          "text": [
            "WARNING:google_genai.types:Warning: there are non-text parts in the response: ['function_call'], returning concatenated text result from text parts. Check the full candidates.content.parts accessor to get the full model response.\n"
          ]
        },
        {
          "output_type": "stream",
          "name": "stdout",
          "text": [
            "[Tool Call] exit_loop triggered by RefinerAgent\n"
          ]
        },
        {
          "output_type": "execute_result",
          "data": {
            "text/plain": [
              "{'InitialWriterAgent': 'The humid morning air hung heavy with the scent of earth and distant blossoms on the Indonesian hillside. Old Pak Budi knelt among the low coffee bushes, his eyes scanning the ground beneath the leaves not for ripe cherries, but for something far more valuable. He knew the signs: a small, dark pile, the unexpected gift left by the nocturnal civets, the first step in creating the legendary Kopi Luwak.',\n",
              " 'CriticAgent': 'No major issues found.'}"
            ]
          },
          "metadata": {},
          "execution_count": 20
        }
      ],
      "source": [
        "await run_agent(runner, USER_ID, SESSION_ID, \"write a comprehensive essay\")"
      ]
    },
    {
      "cell_type": "markdown",
      "id": "xYe-vmTUEOfd",
      "metadata": {
        "id": "xYe-vmTUEOfd",
        "tags": []
      },
      "source": [
        "# Conclusions\n",
        "\n",
        "You have explored how to create an agent using Gemini and Agent Development Kit."
      ]
    },
    {
      "cell_type": "code",
      "source": [],
      "metadata": {
        "id": "QkGrv4YdSxfg"
      },
      "id": "QkGrv4YdSxfg",
      "execution_count": null,
      "outputs": []
    }
  ],
  "metadata": {
    "colab": {
      "provenance": []
    },
    "environment": {
      "kernel": "conda-base-py",
      "name": "workbench-notebooks.m126",
      "type": "gcloud",
      "uri": "us-docker.pkg.dev/deeplearning-platform-release/gcr.io/workbench-notebooks:m126"
    },
    "kernelspec": {
      "display_name": "Python 3 (ipykernel)",
      "language": "python",
      "name": "python3"
    },
    "language_info": {
      "codemirror_mode": {
        "name": "ipython",
        "version": 3
      },
      "file_extension": ".py",
      "mimetype": "text/x-python",
      "name": "python",
      "nbconvert_exporter": "python",
      "pygments_lexer": "ipython3",
      "version": "3.11.11"
    }
  },
  "nbformat": 4,
  "nbformat_minor": 5
}